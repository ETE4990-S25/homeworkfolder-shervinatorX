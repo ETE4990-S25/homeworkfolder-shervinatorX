{
 "cells": [
  {
   "cell_type": "markdown",
   "metadata": {},
   "source": [
    "Your name goes here Pleaese"
   ]
  },
  {
   "cell_type": "markdown",
   "metadata": {},
   "source": [
    "## Objective:\n",
    "The objective of this assignment is to practice using Functional Programing.\n",
    "\n",
    "## Instructions:\n",
    "\n",
    "Using everything we learned to day about Functional Programing, lambda and itters create one of each of the following:\n",
    "-  Basic Lambda Function\n",
    "    - Create a lambda function that takes one arguments and returns even or odd.\n",
    "- Advanced lambda Function\n",
    "    - Create a lambda function that takes a list and returns their sum \n",
    "- Sorting with Lambda\n",
    "- Filtering with Lambda - `filter()` \n",
    "- Mapping with Lambda - `map()`\n",
    "- Reducing with Lambda -  `reduce()` \n",
    "- Enumerate with or without Lambda - `enumerate()`\n",
    "- zip with or without lambda (may combine enumerate like in class) - `zip()`\n",
    "\n",
    "Submit the file as a .py \n",
    "\n",
    "\n"
   ]
  },
  {
   "cell_type": "markdown",
   "metadata": {},
   "source": []
  },
  {
   "cell_type": "markdown",
   "metadata": {},
   "source": [
    "# here is my functional programming if i have understood it correctly pleaee lmk\n"
   ]
  },
  {
   "cell_type": "code",
   "execution_count": null,
   "metadata": {},
   "outputs": [],
   "source": [
    "# Shervin Hosseinian\n",
    "\n",
    "from functools import reduce\n",
    "\n",
    "# Basic Lambda Function\n",
    "check_even_odd = lambda x: \"Even\" if x % 2 == 0 else \"Odd\"\n",
    "print(check_even_odd(5))  # Expected: Odd\n",
    "\n",
    "# Advanced Lambda Function\n",
    "sum_list = lambda lst: sum(lst)\n",
    "print(sum_list([1, 2, 3, 4]))  # Expected: 10\n",
    "\n",
    "# Sorting with Lambda\n",
    "names = [\"Zara\", \"Mike\", \"Anna\", \"Bob\"]\n",
    "sorted_names = sorted(names, key=lambda name: name.lower())  # Should sort ignoring case\n",
    "print(sorted_names)\n",
    "\n",
    "# Filtering with Lambda - filter()\n",
    "numbers = [10, 15, 20, 25, 30]\n",
    "even_numbers = list(filter(lambda x: x % 2 == 0, numbers))  # Should keep only even numbers\n",
    "print(even_numbers)\n",
    "\n",
    "# Mapping with Lambda - map()\n",
    "squared_numbers = list(map(lambda x: x**2, numbers))  # Should square each number\n",
    "print(squared_numbers)\n",
    "\n",
    "# Reducing with Lambda - reduce()\n",
    "product_of_numbers = reduce(lambda x, y: x * y, numbers)  # Multiplies all numbers together\n",
    "print(product_of_numbers)\n",
    "\n",
    "# Enumerate with Lambda\n",
    "indexed_names = list(enumerate(names, 1))  # Start indexing from 1\n",
    "print(indexed_names)\n",
    "\n",
    "# Zip with Lambda\n",
    "scores = [90, 85, 88, 92]\n",
    "combined = list(zip(names, scores))  # Pair names with scores\n",
    "print(combined)\n",
    "\n",
    "\n"
   ]
  }
 ],
 "metadata": {
  "kernelspec": {
   "display_name": "Python 3",
   "language": "python",
   "name": "python3"
  },
  "language_info": {
   "codemirror_mode": {
    "name": "ipython",
    "version": 3
   },
   "file_extension": ".py",
   "mimetype": "text/x-python",
   "name": "python",
   "nbconvert_exporter": "python",
   "pygments_lexer": "ipython3",
   "version": "3.12.8"
  }
 },
 "nbformat": 4,
 "nbformat_minor": 2
}
