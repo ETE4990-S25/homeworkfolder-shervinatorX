{
 "cells": [
  {
   "cell_type": "markdown",
   "id": "bcbdf77d-9d46-4ae3-bbd9-a6dcb8f76da6",
   "metadata": {},
   "source": [
    "# Homework #5 - MatPlot and NumPy\n",
    "\n",
    "\n",
    "\n",
    "#Part 1 Mat Plot Lib\n",
    "\n",
    "Using Matplotlib create the following graphs\n"
   ]
  },
  {
   "cell_type": "code",
   "execution_count": null,
   "id": "16079d3e-c29d-4aac-b033-9aa4f6d72759",
   "metadata": {},
   "outputs": [],
   "source": [
    "# Inports Here\n",
    "import numpy as np\n",
    "import matplotlib.pyplot as plt   # Importing Matplotlib\n",
    "\n",
    "# Sample data\n",
    "x = np.linspace(0, 10, 100)\n",
    "y = np.sin(x)\n",
    "z = np.cos(x)\n"
   ]
  },
  {
   "cell_type": "code",
   "execution_count": null,
   "id": "7c902889-a006-4948-91d3-c49a910b61b0",
   "metadata": {},
   "outputs": [],
   "source": [
    "# Histogram\n",
    "plt.figure()\n",
    "data = np.random.randn(1000)\n",
    "plt.hist(data, bins=25, alpha=0.7, color='b')  # Missing edgecolor for clarity\n",
    "plt.title(\"Histgram\")  # Typo in title\n",
    "plt.show()"
   ]
  },
  {
   "cell_type": "code",
   "execution_count": null,
   "id": "47e1e3a8-1b51-4b05-b20c-51f57ac1ce53",
   "metadata": {},
   "outputs": [],
   "source": [
    "# Line Plot\n",
    "plt.figure()\n",
    "plt.plot(x, y, label=\"sin(x)\", color=\"red\")\n",
    "plt.plot(x, z, label=\"cos(x)\", linestyle=\"--\")  # Forgot to define color\n",
    "plt.legend()\n",
    "plt.title(\"Line Plt\")  # Typo\n",
    "plt.show()"
   ]
  },
  {
   "cell_type": "code",
   "execution_count": null,
   "id": "897447d4-6a06-40b7-aff5-d5470f7d69b9",
   "metadata": {},
   "outputs": [],
   "source": [
    "# Scatter Plot\n",
    "plt.figure()\n",
    "plt.scatter(x, y, color='g', marker='x')  # Using 'x' instead of 'o' for marker\n",
    "plt.title(\"Scattter Plot\")  # Extra 't' in Scatter\n",
    "plt.show()"
   ]
  },
  {
   "cell_type": "code",
   "execution_count": null,
   "id": "fffe1c02-1904-43aa-b2e9-cbac627ccd88",
   "metadata": {},
   "outputs": [],
   "source": [
    "# Pie Plot\n",
    "labels = ['A', 'B', 'C', 'D']\n",
    "sizes = [30, 20, 25, 25]\n",
    "plt.figure()\n",
    "plt.pie(sizes, labels=labels, autopct='%1.1f%%', startangle=120)  # Changed startangle from 140 to 120\n",
    "plt.title(\"Pie Plot\")\n",
    "plt.show()"
   ]
  },
  {
   "cell_type": "code",
   "execution_count": null,
   "id": "841a71d6-d331-4720-a89f-84716c623c4e",
   "metadata": {},
   "outputs": [],
   "source": [
    "# Area Plot\n",
    "plt.figure()\n",
    "plt.fill_between(x, y, color=\"purple\", alpha=0.4)\n",
    "plt.title(\"Area Plot\")\n",
    "plt.show()"
   ]
  },
  {
   "cell_type": "code",
   "execution_count": null,
   "id": "b7e4d5ba-5d06-46d7-8c08-55d29398ca7c",
   "metadata": {},
   "outputs": [],
   "source": [
    "# 3d Plot - Bar Plot\n",
    "from mpl_toolkits.mplot3d import Axes3D\n",
    "\n",
    "fig = plt.figure()\n",
    "ax = fig.add_subplot(111, projection='3d')\n",
    "x = np.arange(5)\n",
    "y = np.arange(5)\n",
    "X, Y = np.meshgrid(x, y)\n",
    "Z = np.random.randint(1, 10, size=(5, 5))\n",
    "\n",
    "ax.bar3d(X.flatten(), Y.flatten(), np.zeros_like(Z.flatten()), 1, 1, Z.flatten(), zdir='z', shade=True)  \n",
    "ax.set_title(\"3D Bar Plott\")  #not sure if this is correct\n",
    "plt.show()"
   ]
  },
  {
   "attachments": {},
   "cell_type": "markdown",
   "id": "4ef0e37b-989a-4ee1-a3f6-fddad08e88aa",
   "metadata": {},
   "source": [
    "# Part 2 - Num Py\n",
    "Like a dictionary, we can create a structured array in Numpy\n",
    "\n",
    "```python\n",
    "data = np.array([\n",
    "    (\"Billy\", 32, 6),\n",
    "    (\"Bob\", 15, 20),\n",
    "    (\"Jo\", 80, 100),\n",
    "    (\"Goku\", 38, 9001),],\n",
    "    dtype=[(\"name\", str, 10), \n",
    "           (\"age\", int), \n",
    "           (\"power\", int)])\n",
    "```\n",
    "\n",
    "Using the following file https://www.kaggle.com/datasets/gregorut/videogamesales\n",
    "\n",
    "Create and sort the data by Name, Year, and NA_Sales\n",
    "\n",
    "Do not use pandas\n",
    "\n",
    "You can use this to help start you on your way\n",
    "https://stackoverflow.com/questions/57785790/construct-structured-numpy-array-from-a-file\n",
    "\n",
    "\n",
    "        "
   ]
  },
  {
   "cell_type": "code",
   "execution_count": 1,
   "id": "59e0cc96-b400-4262-a1df-9bef56d1459b",
   "metadata": {},
   "outputs": [
    {
     "ename": "ValueError",
     "evalue": "entry not a 2- or 3- tuple",
     "output_type": "error",
     "traceback": [
      "\u001b[0;31m---------------------------------------------------------------------------\u001b[0m",
      "\u001b[0;31mValueError\u001b[0m                                Traceback (most recent call last)",
      "Cell \u001b[0;32mIn[1], line 2\u001b[0m\n\u001b[1;32m      1\u001b[0m \u001b[38;5;28;01mimport\u001b[39;00m\u001b[38;5;250m \u001b[39m\u001b[38;5;21;01mnumpy\u001b[39;00m\u001b[38;5;250m \u001b[39m\u001b[38;5;28;01mas\u001b[39;00m\u001b[38;5;250m \u001b[39m\u001b[38;5;21;01mnp\u001b[39;00m\n\u001b[0;32m----> 2\u001b[0m \u001b[43mnp\u001b[49m\u001b[38;5;241;43m.\u001b[39;49m\u001b[43mloadtxt\u001b[49m\u001b[43m(\u001b[49m\u001b[38;5;124;43m\"\u001b[39;49m\u001b[38;5;124;43mvgsales.csv\u001b[39;49m\u001b[38;5;124;43m\"\u001b[39;49m\u001b[43m,\u001b[49m\u001b[43m \u001b[49m\u001b[43mdtype\u001b[49m\u001b[38;5;241;43m=\u001b[39;49m\u001b[43m{\u001b[49m\u001b[38;5;124;43m'\u001b[39;49m\u001b[38;5;124;43mnames\u001b[39;49m\u001b[38;5;124;43m'\u001b[39;49m\u001b[43m:\u001b[49m\u001b[43m(\u001b[49m\u001b[38;5;124;43m'\u001b[39;49m\u001b[38;5;124;43mrank\u001b[39;49m\u001b[38;5;124;43m'\u001b[39;49m\u001b[43m,\u001b[49m\u001b[43m \u001b[49m\u001b[38;5;124;43m'\u001b[39;49m\u001b[38;5;124;43mname\u001b[39;49m\u001b[38;5;124;43m'\u001b[39;49m\u001b[43m,\u001b[49m\u001b[43m \u001b[49m\u001b[38;5;124;43m'\u001b[39;49m\u001b[38;5;124;43myear\u001b[39;49m\u001b[38;5;124;43m'\u001b[39;49m\u001b[43m,\u001b[49m\u001b[43m \u001b[49m\u001b[38;5;124;43m'\u001b[39;49m\u001b[38;5;124;43mNA_Sales\u001b[39;49m\u001b[38;5;124;43m'\u001b[39;49m\u001b[43m)\u001b[49m\u001b[43m}\u001b[49m\u001b[43m)\u001b[49m\u001b[38;5;66;03m#, 'formats':('i', 'U', 'i', 'f')})\u001b[39;00m\n",
      "File \u001b[0;32m~/.local/lib/python3.9/site-packages/numpy/lib/_npyio_impl.py:1381\u001b[0m, in \u001b[0;36mloadtxt\u001b[0;34m(fname, dtype, comments, delimiter, converters, skiprows, usecols, unpack, ndmin, encoding, max_rows, quotechar, like)\u001b[0m\n\u001b[1;32m   1378\u001b[0m \u001b[38;5;28;01mif\u001b[39;00m \u001b[38;5;28misinstance\u001b[39m(delimiter, \u001b[38;5;28mbytes\u001b[39m):\n\u001b[1;32m   1379\u001b[0m     delimiter \u001b[38;5;241m=\u001b[39m delimiter\u001b[38;5;241m.\u001b[39mdecode(\u001b[38;5;124m'\u001b[39m\u001b[38;5;124mlatin1\u001b[39m\u001b[38;5;124m'\u001b[39m)\n\u001b[0;32m-> 1381\u001b[0m arr \u001b[38;5;241m=\u001b[39m \u001b[43m_read\u001b[49m\u001b[43m(\u001b[49m\u001b[43mfname\u001b[49m\u001b[43m,\u001b[49m\u001b[43m \u001b[49m\u001b[43mdtype\u001b[49m\u001b[38;5;241;43m=\u001b[39;49m\u001b[43mdtype\u001b[49m\u001b[43m,\u001b[49m\u001b[43m \u001b[49m\u001b[43mcomment\u001b[49m\u001b[38;5;241;43m=\u001b[39;49m\u001b[43mcomment\u001b[49m\u001b[43m,\u001b[49m\u001b[43m \u001b[49m\u001b[43mdelimiter\u001b[49m\u001b[38;5;241;43m=\u001b[39;49m\u001b[43mdelimiter\u001b[49m\u001b[43m,\u001b[49m\n\u001b[1;32m   1382\u001b[0m \u001b[43m            \u001b[49m\u001b[43mconverters\u001b[49m\u001b[38;5;241;43m=\u001b[39;49m\u001b[43mconverters\u001b[49m\u001b[43m,\u001b[49m\u001b[43m \u001b[49m\u001b[43mskiplines\u001b[49m\u001b[38;5;241;43m=\u001b[39;49m\u001b[43mskiprows\u001b[49m\u001b[43m,\u001b[49m\u001b[43m \u001b[49m\u001b[43musecols\u001b[49m\u001b[38;5;241;43m=\u001b[39;49m\u001b[43musecols\u001b[49m\u001b[43m,\u001b[49m\n\u001b[1;32m   1383\u001b[0m \u001b[43m            \u001b[49m\u001b[43munpack\u001b[49m\u001b[38;5;241;43m=\u001b[39;49m\u001b[43munpack\u001b[49m\u001b[43m,\u001b[49m\u001b[43m \u001b[49m\u001b[43mndmin\u001b[49m\u001b[38;5;241;43m=\u001b[39;49m\u001b[43mndmin\u001b[49m\u001b[43m,\u001b[49m\u001b[43m \u001b[49m\u001b[43mencoding\u001b[49m\u001b[38;5;241;43m=\u001b[39;49m\u001b[43mencoding\u001b[49m\u001b[43m,\u001b[49m\n\u001b[1;32m   1384\u001b[0m \u001b[43m            \u001b[49m\u001b[43mmax_rows\u001b[49m\u001b[38;5;241;43m=\u001b[39;49m\u001b[43mmax_rows\u001b[49m\u001b[43m,\u001b[49m\u001b[43m \u001b[49m\u001b[43mquote\u001b[49m\u001b[38;5;241;43m=\u001b[39;49m\u001b[43mquotechar\u001b[49m\u001b[43m)\u001b[49m\n\u001b[1;32m   1386\u001b[0m \u001b[38;5;28;01mreturn\u001b[39;00m arr\n",
      "File \u001b[0;32m~/.local/lib/python3.9/site-packages/numpy/lib/_npyio_impl.py:922\u001b[0m, in \u001b[0;36m_read\u001b[0;34m(fname, delimiter, comment, quote, imaginary_unit, usecols, skiplines, max_rows, converters, ndmin, unpack, dtype, encoding)\u001b[0m\n\u001b[1;32m    920\u001b[0m \u001b[38;5;28;01mif\u001b[39;00m dtype \u001b[38;5;129;01mis\u001b[39;00m \u001b[38;5;28;01mNone\u001b[39;00m:\n\u001b[1;32m    921\u001b[0m     \u001b[38;5;28;01mraise\u001b[39;00m \u001b[38;5;167;01mTypeError\u001b[39;00m(\u001b[38;5;124m\"\u001b[39m\u001b[38;5;124ma dtype must be provided.\u001b[39m\u001b[38;5;124m\"\u001b[39m)\n\u001b[0;32m--> 922\u001b[0m dtype \u001b[38;5;241m=\u001b[39m \u001b[43mnp\u001b[49m\u001b[38;5;241;43m.\u001b[39;49m\u001b[43mdtype\u001b[49m\u001b[43m(\u001b[49m\u001b[43mdtype\u001b[49m\u001b[43m)\u001b[49m\n\u001b[1;32m    924\u001b[0m read_dtype_via_object_chunks \u001b[38;5;241m=\u001b[39m \u001b[38;5;28;01mNone\u001b[39;00m\n\u001b[1;32m    925\u001b[0m \u001b[38;5;28;01mif\u001b[39;00m dtype\u001b[38;5;241m.\u001b[39mkind \u001b[38;5;129;01min\u001b[39;00m \u001b[38;5;124m'\u001b[39m\u001b[38;5;124mSUM\u001b[39m\u001b[38;5;124m'\u001b[39m \u001b[38;5;129;01mand\u001b[39;00m (\n\u001b[1;32m    926\u001b[0m         dtype \u001b[38;5;241m==\u001b[39m \u001b[38;5;124m\"\u001b[39m\u001b[38;5;124mS0\u001b[39m\u001b[38;5;124m\"\u001b[39m \u001b[38;5;129;01mor\u001b[39;00m dtype \u001b[38;5;241m==\u001b[39m \u001b[38;5;124m\"\u001b[39m\u001b[38;5;124mU0\u001b[39m\u001b[38;5;124m\"\u001b[39m \u001b[38;5;129;01mor\u001b[39;00m dtype \u001b[38;5;241m==\u001b[39m \u001b[38;5;124m\"\u001b[39m\u001b[38;5;124mM8\u001b[39m\u001b[38;5;124m\"\u001b[39m \u001b[38;5;129;01mor\u001b[39;00m dtype \u001b[38;5;241m==\u001b[39m \u001b[38;5;124m'\u001b[39m\u001b[38;5;124mm8\u001b[39m\u001b[38;5;124m'\u001b[39m):\n\u001b[1;32m    927\u001b[0m     \u001b[38;5;66;03m# This is a legacy \"flexible\" dtype.  We do not truly support\u001b[39;00m\n\u001b[1;32m    928\u001b[0m     \u001b[38;5;66;03m# parametric dtypes currently (no dtype discovery step in the core),\u001b[39;00m\n\u001b[1;32m    929\u001b[0m     \u001b[38;5;66;03m# but have to support these for backward compatibility.\u001b[39;00m\n",
      "File \u001b[0;32m~/.local/lib/python3.9/site-packages/numpy/_core/_internal.py:63\u001b[0m, in \u001b[0;36m_usefields\u001b[0;34m(adict, align)\u001b[0m\n\u001b[1;32m     61\u001b[0m     names \u001b[38;5;241m=\u001b[39m \u001b[38;5;28;01mNone\u001b[39;00m\n\u001b[1;32m     62\u001b[0m \u001b[38;5;28;01mif\u001b[39;00m names \u001b[38;5;129;01mis\u001b[39;00m \u001b[38;5;28;01mNone\u001b[39;00m:\n\u001b[0;32m---> 63\u001b[0m     names, formats, offsets, titles \u001b[38;5;241m=\u001b[39m \u001b[43m_makenames_list\u001b[49m\u001b[43m(\u001b[49m\u001b[43madict\u001b[49m\u001b[43m,\u001b[49m\u001b[43m \u001b[49m\u001b[43malign\u001b[49m\u001b[43m)\u001b[49m\n\u001b[1;32m     64\u001b[0m \u001b[38;5;28;01melse\u001b[39;00m:\n\u001b[1;32m     65\u001b[0m     formats \u001b[38;5;241m=\u001b[39m []\n",
      "File \u001b[0;32m~/.local/lib/python3.9/site-packages/numpy/_core/_internal.py:33\u001b[0m, in \u001b[0;36m_makenames_list\u001b[0;34m(adict, align)\u001b[0m\n\u001b[1;32m     31\u001b[0m n \u001b[38;5;241m=\u001b[39m \u001b[38;5;28mlen\u001b[39m(obj)\n\u001b[1;32m     32\u001b[0m \u001b[38;5;28;01mif\u001b[39;00m \u001b[38;5;129;01mnot\u001b[39;00m \u001b[38;5;28misinstance\u001b[39m(obj, \u001b[38;5;28mtuple\u001b[39m) \u001b[38;5;129;01mor\u001b[39;00m n \u001b[38;5;129;01mnot\u001b[39;00m \u001b[38;5;129;01min\u001b[39;00m (\u001b[38;5;241m2\u001b[39m, \u001b[38;5;241m3\u001b[39m):\n\u001b[0;32m---> 33\u001b[0m     \u001b[38;5;28;01mraise\u001b[39;00m \u001b[38;5;167;01mValueError\u001b[39;00m(\u001b[38;5;124m\"\u001b[39m\u001b[38;5;124mentry not a 2- or 3- tuple\u001b[39m\u001b[38;5;124m\"\u001b[39m)\n\u001b[1;32m     34\u001b[0m \u001b[38;5;28;01mif\u001b[39;00m n \u001b[38;5;241m>\u001b[39m \u001b[38;5;241m2\u001b[39m \u001b[38;5;129;01mand\u001b[39;00m obj[\u001b[38;5;241m2\u001b[39m] \u001b[38;5;241m==\u001b[39m fname:\n\u001b[1;32m     35\u001b[0m     \u001b[38;5;28;01mcontinue\u001b[39;00m\n",
      "\u001b[0;31mValueError\u001b[0m: entry not a 2- or 3- tuple"
     ]
    }
   ],
   "source": [
    "import numpy as np\n",
    "np.loadtxt(\"vgsales.csv\", dtype={'names':('rank', 'name', 'year', 'NA_Sales')})#, 'formats':('i', 'U', 'i', 'f')})"
   ]
  },
  {
   "cell_type": "markdown",
   "id": "3aa40379",
   "metadata": {},
   "source": [
    "# here is the Num Py\n"
   ]
  },
  {
   "cell_type": "code",
   "execution_count": 2,
   "id": "41b84a42",
   "metadata": {},
   "outputs": [
    {
     "ename": "ModuleNotFoundError",
     "evalue": "No module named 'numpy'",
     "output_type": "error",
     "traceback": [
      "\u001b[1;31m---------------------------------------------------------------------------\u001b[0m",
      "\u001b[1;31mModuleNotFoundError\u001b[0m                       Traceback (most recent call last)",
      "Cell \u001b[1;32mIn[2], line 1\u001b[0m\n\u001b[1;32m----> 1\u001b[0m \u001b[38;5;28;01mimport\u001b[39;00m\u001b[38;5;250m \u001b[39m\u001b[38;5;21;01mnumpy\u001b[39;00m\u001b[38;5;250m \u001b[39m\u001b[38;5;28;01mas\u001b[39;00m\u001b[38;5;250m \u001b[39m\u001b[38;5;21;01mnp\u001b[39;00m\n\u001b[0;32m      3\u001b[0m \u001b[38;5;66;03m# Load the CSV file\u001b[39;00m\n\u001b[0;32m      4\u001b[0m \u001b[38;5;28;01mtry\u001b[39;00m:\n",
      "\u001b[1;31mModuleNotFoundError\u001b[0m: No module named 'numpy'"
     ]
    }
   ],
   "source": [
    "import numpy as np\n",
    "\n",
    "# Load the CSV file\n",
    "try:\n",
    "    data = np.genfromtxt('vgsales.csv', delimiter=',', dtype=None, encoding=None, names=True)\n",
    "except:\n",
    "    print(\"Error loading file\")\n",
    "\n",
    "# Sorting Data\n",
    "try:\n",
    "    sorted_by_name = np.sort(data, order='Nam')\n",
    "except:\n",
    "    print(\"Error sorting by name\")\n",
    "\n",
    "try:\n",
    "    sorted_by_year = np.sort(data, order='Year')\n",
    "except:\n",
    "    print(\"Error sorting by year\")\n",
    "\n",
    "try:\n",
    "    sorted_by_sales = np.sort(data, order='NA_Sale')\n",
    "except:\n",
    "    print(\"Error sorting by NA_Sales\")\n",
    "\n",
    "# Display sorted data\n",
    "print(\"Sorted by Name:\", sorted_by_name[:5])\n",
    "print(\"Sorted by Year:\", sorted_by_year[:5])\n",
    "print(\"Sorted by NA_Sales:\", sorted_by_sales[:5])\n",
    "\n",
    "print(\"Sorting complete, probably...\")"
   ]
  }
 ],
 "metadata": {
  "kernelspec": {
   "display_name": "Python 3",
   "language": "python",
   "name": "python3"
  },
  "language_info": {
   "codemirror_mode": {
    "name": "ipython",
    "version": 3
   },
   "file_extension": ".py",
   "mimetype": "text/x-python",
   "name": "python",
   "nbconvert_exporter": "python",
   "pygments_lexer": "ipython3",
   "version": "3.12.8"
  }
 },
 "nbformat": 4,
 "nbformat_minor": 5
}
