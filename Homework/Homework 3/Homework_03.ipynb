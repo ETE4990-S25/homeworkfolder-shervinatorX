{
 "cells": [
  {
   "cell_type": "markdown",
   "metadata": {},
   "source": [
    "# Homework #3: \n",
    "Creating and Using Python Classes with JSON\n",
    "\n",
    "## Instructions:\n",
    "### 1. Create a Python file named `data_classes.py` with the following content:\n",
    "- Define a class `Person` with attributes `name`, `age`, and `email`.\n",
    "- Define a class `Student` that inherits from `Person` and adds an attribute `student_id`.\n",
    "- Include a method to save the data of these instances into a JSON file.\n",
    "- Include a method to display the JSON content on the screen.\n",
    "\n",
    "\n",
    "hints:\n",
    "```python\n",
    "class Person(object):\n",
    "    #do stuff\n",
    "\n",
    "class Student(Person):\n",
    "    #do stuff\n",
    "\n",
    "\n",
    "#use json.dump \n",
    "'last_name': fake.last_name()\n",
    "'first_name': fake.first_name()\n",
    "'email': fake.email()\n",
    "'student_id': fake.age\n",
    "```\n",
    "\n",
    "### 2. Write a Jupyter Notebook that:\n",
    "- Imports the classes from `data_classes.py`.\n",
    "- Creates instances of `Person` and `Student`.\n",
    " - Calls the methods to save data to a JSON file and display the JSON content.\n",
    "\n",
    "```python\n",
    "from data_classes import Student as dc\n",
    "from data_classes import Saver\n",
    "bill = dc(\"bill\",12,\"bill@cool.com\",1234)\n",
    "saver(bill)\n",
    "```\n",
    "\n",
    "###  Step 3: Verify the JSON file content\n",
    "This step should be done by running the display_json method in the Jupyter Notebook I expect you to use your Jupyter notebook to explain any work and thought processes you had while working on your Homework. Consider your Jupyter notebook your \"Lab Report\" and the Homework is your .py file.\n",
    "\n",
    "# here is part 1"
   ]
  },
  {
   "cell_type": "code",
   "execution_count": 2,
   "metadata": {},
   "outputs": [
    {
     "ename": "ModuleNotFoundError",
     "evalue": "No module named 'faker'",
     "output_type": "error",
     "traceback": [
      "\u001b[1;31m---------------------------------------------------------------------------\u001b[0m",
      "\u001b[1;31mModuleNotFoundError\u001b[0m                       Traceback (most recent call last)",
      "Cell \u001b[1;32mIn[2], line 2\u001b[0m\n\u001b[0;32m      1\u001b[0m \u001b[38;5;28;01mimport\u001b[39;00m\u001b[38;5;250m \u001b[39m\u001b[38;5;21;01mjson\u001b[39;00m\n\u001b[1;32m----> 2\u001b[0m \u001b[38;5;28;01mfrom\u001b[39;00m\u001b[38;5;250m \u001b[39m\u001b[38;5;21;01mfaker\u001b[39;00m\u001b[38;5;250m \u001b[39m\u001b[38;5;28;01mimport\u001b[39;00m Faker\n\u001b[0;32m      3\u001b[0m \u001b[38;5;28;01mfrom\u001b[39;00m\u001b[38;5;250m \u001b[39m\u001b[38;5;21;01mdatetime\u001b[39;00m\u001b[38;5;250m \u001b[39m\u001b[38;5;28;01mimport\u001b[39;00m datetime\n\u001b[0;32m      5\u001b[0m fake \u001b[38;5;241m=\u001b[39m Faker()\n",
      "\u001b[1;31mModuleNotFoundError\u001b[0m: No module named 'faker'"
     ]
    }
   ],
   "source": [
    "import json\n",
    "from faker import Faker\n",
    "from datetime import datetime\n",
    "\n",
    "fake = Faker()\n",
    "\n",
    "# Base class\n",
    "class Person:\n",
    "    def __init__(self, first_name, last_name, email, age=None):\n",
    "        self.first_name = first_name\n",
    "        self.last_name = last_name\n",
    "        self.email = email\n",
    "        self.age = age if age else self.generate_fake_age()\n",
    "\n",
    "    def generate_fake_age(self):\n",
    "        \"\"\"Generate a random date for age formatting.\"\"\"\n",
    "        return fake.date(pattern=\"%A %d. %B %Y\")\n",
    "\n",
    "    def to_dict(self, index):\n",
    "        return {\n",
    "            \"last_name\": self.last_name,\n",
    "            \"first_name\": self.first_name,\n",
    "            \"street_address\": fake.address(),\n",
    "            \"email\": self.email,\n",
    "            \"age\": self.age,\n",
    "            \"index\": index\n",
    "        }\n",
    "\n",
    "# Student class inheriting from Person\n",
    "class Student(Person):\n",
    "    def __init__(self, first_name, last_name, email, student_id, age=None):\n",
    "        super().__init__(first_name, last_name, email, age)\n",
    "        self.student_id = student_id\n",
    "\n",
    "    def to_dict(self, index):\n",
    "        student_data = super().to_dict(index)\n",
    "        student_data[\"student_id\"] = self.student_id  # Keep this extra field for students\n",
    "        return student_data\n",
    "\n",
    "# Function to save data to JSON file\n",
    "def save_to_json(person, filename=\"data.json\"):\n",
    "    try:\n",
    "        with open(filename, \"r\") as file:\n",
    "            data = json.load(file)\n",
    "    except (FileNotFoundError, json.JSONDecodeError):\n",
    "        data = []\n",
    "\n",
    "    # Add the person with an index\n",
    "    index = len(data)\n",
    "    data.append(person.to_dict(index))\n",
    "\n",
    "    with open(filename, \"w\") as file:\n",
    "        json.dump(data, file, indent=4)\n",
    "\n",
    "# Function to display JSON content\n",
    "def display_json(filename=\"data.json\"):\n",
    "    try:\n",
    "        with open(filename, \"r\") as file:\n",
    "            data = json.load(file)\n",
    "            print(json.dumps(data, indent=4))\n",
    "    except FileNotFoundError:\n",
    "        print(\"File not found!\")\n",
    "\n"
   ]
  },
  {
   "cell_type": "markdown",
   "metadata": {},
   "source": [
    "# part 2"
   ]
  },
  {
   "cell_type": "code",
   "execution_count": null,
   "metadata": {},
   "outputs": [
    {
     "ename": "ModuleNotFoundError",
     "evalue": "No module named 'data_classes'",
     "output_type": "error",
     "traceback": [
      "\u001b[1;31m---------------------------------------------------------------------------\u001b[0m",
      "\u001b[1;31mModuleNotFoundError\u001b[0m                       Traceback (most recent call last)",
      "Cell \u001b[1;32mIn[3], line 2\u001b[0m\n\u001b[0;32m      1\u001b[0m \u001b[38;5;66;03m# Import necessary classes from data_classes.py\u001b[39;00m\n\u001b[1;32m----> 2\u001b[0m \u001b[38;5;28;01mfrom\u001b[39;00m\u001b[38;5;250m \u001b[39m\u001b[38;5;21;01mdata_classes\u001b[39;00m\u001b[38;5;250m \u001b[39m\u001b[38;5;28;01mimport\u001b[39;00m Student, save_to_json, display_json\n\u001b[0;32m      4\u001b[0m \u001b[38;5;66;03m# Creating instances\u001b[39;00m\n\u001b[0;32m      5\u001b[0m student1 \u001b[38;5;241m=\u001b[39m Student(\u001b[38;5;124m\"\u001b[39m\u001b[38;5;124mJose\u001b[39m\u001b[38;5;124m\"\u001b[39m, \u001b[38;5;124m\"\u001b[39m\u001b[38;5;124mTaylor\u001b[39m\u001b[38;5;124m\"\u001b[39m, \u001b[38;5;124m\"\u001b[39m\u001b[38;5;124mjose.taylor@example.com\u001b[39m\u001b[38;5;124m\"\u001b[39m, \u001b[38;5;241m12345\u001b[39m)\n",
      "\u001b[1;31mModuleNotFoundError\u001b[0m: No module named 'data_classes'"
     ]
    }
   ],
   "source": [
    "# Import necessary classes from data_classes.py\n",
    "from data_classes import Student, save_to_json, display_json\n",
    "\n",
    "# Creating instances\n",
    "student1 = Student(\"Jose\", \"Taylor\", \"jose.taylor@example.com\", 12345)\n",
    "student2 = Student(\"Tyler\", \"Stevenson\", \"tyler.stevenson@example.com\", 67890)\n",
    "\n",
    "# Saving data to JSON\n",
    "save_to_json(student1)\n",
    "save_to_json(student2)\n",
    "\n",
    "# Display JSON content \n",
    "display_json()"
   ]
  },
  {
   "cell_type": "markdown",
   "metadata": {},
   "source": [
    "\n",
    "\n",
    "\n",
    "\n",
    "\n",
    "Your json file should look like the following when you are done\n",
    "\n",
    "```JSON\n",
    "[\n",
    "    {\n",
    "        \"last_name\": \"Taylor\", \n",
    "        \"first_name\": \"Jose\", \n",
    "        \"street_address\": \"571 Travis Forest Suite 210\", \n",
    "        \"email\": \"marysanchez@example.org\", \"age\": \"Saturday 30. August 2008\", \"index\": 0\n",
    "    },\n",
    "    {\n",
    "        \"last_name\": \"Stevenson\", \n",
    "        \"first_name\": \"Tyler\", \n",
    "        \"street_address\": \"529 Washington Neck\", \n",
    "        \"email\": \"leekatrina@example.org\", \n",
    "        \"age\": \"Wednesday 25. January 1995\", \n",
    "        \"index\": 1\n",
    "    } \n",
    "]\n",
    "```"
   ]
  },
  {
   "cell_type": "code",
   "execution_count": null,
   "metadata": {},
   "outputs": [],
   "source": []
  }
 ],
 "metadata": {
  "kernelspec": {
   "display_name": "Python 3",
   "language": "python",
   "name": "python3"
  },
  "language_info": {
   "codemirror_mode": {
    "name": "ipython",
    "version": 3
   },
   "file_extension": ".py",
   "mimetype": "text/x-python",
   "name": "python",
   "nbconvert_exporter": "python",
   "pygments_lexer": "ipython3",
   "version": "3.12.8"
  }
 },
 "nbformat": 4,
 "nbformat_minor": 2
}
