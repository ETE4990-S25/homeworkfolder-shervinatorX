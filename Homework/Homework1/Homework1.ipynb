{
 "cells": [
  {
   "cell_type": "markdown",
   "id": "177f13de",
   "metadata": {},
   "source": [
    "# Welcome to Applied Python. \n",
    "please take the time to join the discord.\n",
    "\n",
    "Setup your Visual Studio Code\n",
    "\n",
    "For the first few weeks I will have a refresher on programing and syntax then we will dive into it so please have your IDE ready day one. "
   ]
  },
  {
   "cell_type": "markdown",
   "id": "00d90590",
   "metadata": {},
   "source": [
    "# both visual studios and discord are running"
   ]
  }
 ],
 "metadata": {
  "language_info": {
   "name": "python"
  }
 },
 "nbformat": 4,
 "nbformat_minor": 5
}
