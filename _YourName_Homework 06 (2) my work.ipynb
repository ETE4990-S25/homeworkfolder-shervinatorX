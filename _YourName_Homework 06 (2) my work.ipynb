{
 "cells": [
  {
   "cell_type": "markdown",
   "metadata": {},
   "source": [
    "Your name goes here Pleaese"
   ]
  },
  {
   "cell_type": "markdown",
   "metadata": {},
   "source": [
    "# Shervin Hosseinian\n"
   ]
  },
  {
   "cell_type": "markdown",
   "metadata": {},
   "source": [
    "## Objective:\n",
    "The objective of this assignment is to practice using Functional Programing.\n",
    "\n",
    "## Instructions:\n",
    "\n",
    "Using everything we learned to day about Functional Programing, lambda and itters create one of each of the following:\n",
    "-  Basic Lambda Function\n",
    "    - Create a lambda function that takes one arguments and returns even or odd.\n",
    "- Advanced lambda Function\n",
    "    - Create a lambda function that takes a list and returns their sum \n",
    "- Sorting with Lambda\n",
    "- Filtering with Lambda - `filter()` \n",
    "- Mapping with Lambda - `map()`\n",
    "- Reducing with Lambda -  `reduce()` \n",
    "- Enumerate with or without Lambda - `enumerate()`\n",
    "- zip with or without lambda (may combine enumerate like in class) - `zip()`\n",
    "\n",
    "Submit the file as a .py \n",
    "\n",
    "\n"
   ]
  },
  {
   "cell_type": "markdown",
   "metadata": {},
   "source": [
    "# homework #6 lambda functions "
   ]
  },
  {
   "cell_type": "code",
   "execution_count": 2,
   "metadata": {},
   "outputs": [
    {
     "name": "stdout",
     "output_type": "stream",
     "text": [
      "Check if 5 is Even or Odd: Odd\n",
      "Sum of list [1, 2, 3, 4]: 10\n",
      "Sorted Names: ['Anna', 'Bob', 'Mike', 'Zara']\n",
      "Even Numbers: [10, 20, 30]\n",
      "Squared Numbers: [100, 225, 400, 625, 900]\n",
      "Product of Numbers: 2250000\n",
      "Indexed Names: [(1, 'Zara'), (2, 'Mike'), (3, 'Anna'), (4, 'Bob')]\n",
      "Combined Names and Scores: [('Zara', 90), ('Mike', 85), ('Anna', 88), ('Bob', 92)]\n"
     ]
    }
   ],
   "source": [
    "# Importing necessary library for reducing or reduction\n",
    "from functools import reduce\n",
    "\n",
    "# Basic Lambda Function\n",
    "# This lambda function takes one argument and returns 'Even' if the number is even, otherwise 'Odd'\n",
    "check_even_odd = lambda x: \"Even\" if x % 2 == 0 else \"Odd\"\n",
    "print(\"Check if 5 is Even or Odd:\", check_even_odd(5))  # Output should be Odd\n",
    "\n",
    "# Advanced Lambda Function\n",
    "# This lambda function takes a list of numbers and returns their sum\n",
    "sum_list = lambda lst: sum(lst)\n",
    "print(\"Sum of list [1, 2, 3, 4]:\", sum_list([1, 2, 3, 4]))  # Output should be 10\n",
    "\n",
    "# Sorting with Lambda\n",
    "# Sorting a list of names in alphabetical order regardless of case sensitivity\n",
    "names = [\"Zara\", \"Mike\", \"Anna\", \"Bob\"]\n",
    "sorted_names = sorted(names, key=lambda name: name.lower())\n",
    "print(\"Sorted Names:\", sorted_names)\n",
    "\n",
    "# Filtering with Lambda\n",
    "# This lambda filters out only even numbers from a list\n",
    "numbers = [10, 15, 20, 25, 30]\n",
    "even_numbers = list(filter(lambda x: x % 2 == 0, numbers))\n",
    "print(\"Even Numbers:\", even_numbers)\n",
    "\n",
    "# Mapping with Lambda\n",
    "# This lambda maps a list of numbers to their squares\n",
    "squared_numbers = list(map(lambda x: x**2, numbers))\n",
    "print(\"Squared Numbers:\", squared_numbers)\n",
    "\n",
    "# Reducing with Lambda\n",
    "# This lambda reduces a list of numbers by multiplying them together\n",
    "product_of_numbers = reduce(lambda x, y: x * y, numbers)\n",
    "print(\"Product of Numbers:\", product_of_numbers)\n",
    "\n",
    "# Enumerate with Lambda\n",
    "# Enumerating the list of names with indexing starting from 1\n",
    "indexed_names = list(enumerate(names, 1))\n",
    "print(\"Indexed Names:\", indexed_names)\n",
    "\n",
    "# Zip with Lambda\n",
    "# Pairing names with scores using zip\n",
    "scores = [90, 85, 88, 92]\n",
    "combined = list(zip(names, scores))\n",
    "print(\"Combined Names and Scores:\", combined)\n",
    "# Who knew that lambda could make functional programming almost as fun as watching movies on a lazy Sunday? Just almost though.hahaha lol just kidding "
   ]
  },
  {
   "cell_type": "markdown",
   "metadata": {},
   "source": []
  },
  {
   "cell_type": "markdown",
   "metadata": {},
   "source": [
    "# 2nd attempt homework 6 Lambda \n"
   ]
  },
  {
   "cell_type": "code",
   "execution_count": 1,
   "metadata": {},
   "outputs": [
    {
     "name": "stdout",
     "output_type": "stream",
     "text": [
      "Even or Odd: ['Odd', 'Even', 'Odd']\n",
      "Safe sum of list with non-numerics [1, 'a', 3, '4', 5]: 9\n",
      "Complex Sorted Names: [('Zara', 'Ali'), ('Mike', 'Jones'), ('Anna', 'Lee'), ('Bob', 'Smith')]\n",
      "Eligible Ages for Voting: [22, 25, 30, 18]\n",
      "Scaled Prices: [110.00000000000001, 220.00000000000003, 330.0]\n",
      "Factorial of 5: 120\n",
      "Indexed Names with dictionary: {1: ('Zara', 'Ali'), 2: ('Bob', 'Smith'), 3: ('Anna', 'Lee'), 4: ('Mike', 'Jones')}\n",
      "Formatted Names and Scores: {'Zara Ali': 90, 'Bob Smith': 85, 'Anna Lee': 88, 'Mike Jones': 92}\n",
      "Taxes for prices: [7.0, 14.0, 21.0]\n"
     ]
    }
   ],
   "source": [
    "from functools import reduce\n",
    "\n",
    "# Basic Lambda Function updated to handle a list of numbers\n",
    "check_even_odd = lambda numbers: [\"Even\" if num % 2 == 0 else \"Odd\" for num in numbers]\n",
    "print(\"Even or Odd:\", check_even_odd([5, 10, 15]))  # Output should show list of statuses\n",
    "\n",
    "# Advanced Lambda Function updated to ignore non-numeric entries\n",
    "safe_sum_list = lambda lst: sum([x for x in lst if isinstance(x, (int, float))])\n",
    "print(\"Safe sum of list with non-numerics [1, 'a', 3, '4', 5]:\", safe_sum_list([1, 'a', 3, '4', 5]))\n",
    "\n",
    "# Sorting complex structures: sorting a list of tuples by last name and then first name\n",
    "names = [(\"Zara\", \"Ali\"), (\"Bob\", \"Smith\"), (\"Anna\", \"Lee\"), (\"Mike\", \"Jones\")]\n",
    "sorted_names_complex = sorted(names, key=lambda name: (name[1], name[0]))\n",
    "print(\"Complex Sorted Names:\", sorted_names_complex)\n",
    "\n",
    "# Filtering and using lambda for practical applications: filtering eligible ages\n",
    "ages = [22, 25, 17, 30, 18]\n",
    "eligible_ages = list(filter(lambda x: x >= 18 and x <= 30, ages))\n",
    "print(\"Eligible Ages for Voting:\", eligible_ages)\n",
    "\n",
    "# Mapping to Squares updated to scale prices by a percentage\n",
    "prices = [100, 200, 300]\n",
    "scaled_prices = list(map(lambda x: x * 1.1, prices))  # increasing each by 10%\n",
    "print(\"Scaled Prices:\", scaled_prices)\n",
    "\n",
    "# Reducing to Product enhanced to calculate the factorial of a number\n",
    "# This demonstrates chaining lambda functions to calculate a factorial using reduce\n",
    "factorial = lambda n: reduce(lambda x, y: x * y, range(1, n + 1))\n",
    "print(\"Factorial of 5:\", factorial(5))\n",
    "\n",
    "# Enumerate with Lambda updated for a structured dictionary output\n",
    "indexed_names_dict = dict(enumerate(names, 1))\n",
    "print(\"Indexed Names with dictionary:\", indexed_names_dict)\n",
    "\n",
    "# Zip with Lambda enhanced to format combined names and scores into a structured output\n",
    "scores = [90, 85, 88, 92]\n",
    "names_scores = list(zip(names, scores))\n",
    "formatted_names_scores = {f\"{name[0]} {name[1]}\": score for name, score in names_scores}\n",
    "print(\"Formatted Names and Scores:\", formatted_names_scores)\n",
    "\n",
    "# Adding a new lambda example to show use in a real-world simulation\n",
    "# Calculate total taxes for each price in a list given a tax rate\n",
    "calculate_taxes = lambda prices, rate: list(map(lambda price: round(price * rate, 2), prices))\n",
    "print(\"Taxes for prices:\", calculate_taxes([100, 200, 300], 0.07))"
   ]
  },
  {
   "cell_type": "markdown",
   "metadata": {},
   "source": []
  }
 ],
 "metadata": {
  "kernelspec": {
   "display_name": "Python 3",
   "language": "python",
   "name": "python3"
  },
  "language_info": {
   "codemirror_mode": {
    "name": "ipython",
    "version": 3
   },
   "file_extension": ".py",
   "mimetype": "text/x-python",
   "name": "python",
   "nbconvert_exporter": "python",
   "pygments_lexer": "ipython3",
   "version": "3.11.9"
  }
 },
 "nbformat": 4,
 "nbformat_minor": 2
}
