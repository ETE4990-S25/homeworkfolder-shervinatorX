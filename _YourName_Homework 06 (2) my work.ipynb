{
 "cells": [
  {
   "cell_type": "markdown",
   "metadata": {},
   "source": [
    "Your name goes here Pleaese"
   ]
  },
  {
   "cell_type": "markdown",
   "metadata": {},
   "source": [
    "## Objective:\n",
    "The objective of this assignment is to practice using Functional Programing.\n",
    "\n",
    "## Instructions:\n",
    "\n",
    "Using everything we learned to day about Functional Programing, lambda and itters create one of each of the following:\n",
    "-  Basic Lambda Function\n",
    "    - Create a lambda function that takes one arguments and returns even or odd.\n",
    "- Advanced lambda Function\n",
    "    - Create a lambda function that takes a list and returns their sum \n",
    "- Sorting with Lambda\n",
    "- Filtering with Lambda - `filter()` \n",
    "- Mapping with Lambda - `map()`\n",
    "- Reducing with Lambda -  `reduce()` \n",
    "- Enumerate with or without Lambda - `enumerate()`\n",
    "- zip with or without lambda (may combine enumerate like in class) - `zip()`\n",
    "\n",
    "Submit the file as a .py \n",
    "\n",
    "\n"
   ]
  },
  {
   "cell_type": "markdown",
   "metadata": {},
   "source": [
    "# homework #6 lambda functions "
   ]
  },
  {
   "cell_type": "code",
   "execution_count": null,
   "metadata": {},
   "outputs": [],
   "source": [
    "# Importing necessary library for reducing or reduction\n",
    "from functools import reduce\n",
    "\n",
    "# Basic Lambda Function\n",
    "# This lambda function takes one argument and returns 'Even' if the number is even, otherwise 'Odd'\n",
    "check_even_odd = lambda x: \"Even\" if x % 2 == 0 else \"Odd\"\n",
    "print(\"Check if 5 is Even or Odd:\", check_even_odd(5))  # Output should be Odd\n",
    "\n",
    "# Advanced Lambda Function\n",
    "# This lambda function takes a list of numbers and returns their sum\n",
    "sum_list = lambda lst: sum(lst)\n",
    "print(\"Sum of list [1, 2, 3, 4]:\", sum_list([1, 2, 3, 4]))  # Output should be 10\n",
    "\n",
    "# Sorting with Lambda\n",
    "# Sorting a list of names in alphabetical order regardless of case sensitivity\n",
    "names = [\"Zara\", \"Mike\", \"Anna\", \"Bob\"]\n",
    "sorted_names = sorted(names, key=lambda name: name.lower())\n",
    "print(\"Sorted Names:\", sorted_names)\n",
    "\n",
    "# Filtering with Lambda\n",
    "# This lambda filters out only even numbers from a list\n",
    "numbers = [10, 15, 20, 25, 30]\n",
    "even_numbers = list(filter(lambda x: x % 2 == 0, numbers))\n",
    "print(\"Even Numbers:\", even_numbers)\n",
    "\n",
    "# Mapping with Lambda\n",
    "# This lambda maps a list of numbers to their squares\n",
    "squared_numbers = list(map(lambda x: x**2, numbers))\n",
    "print(\"Squared Numbers:\", squared_numbers)\n",
    "\n",
    "# Reducing with Lambda\n",
    "# This lambda reduces a list of numbers by multiplying them together\n",
    "product_of_numbers = reduce(lambda x, y: x * y, numbers)\n",
    "print(\"Product of Numbers:\", product_of_numbers)\n",
    "\n",
    "# Enumerate with Lambda\n",
    "# Enumerating the list of names with indexing starting from 1\n",
    "indexed_names = list(enumerate(names, 1))\n",
    "print(\"Indexed Names:\", indexed_names)\n",
    "\n",
    "# Zip with Lambda\n",
    "# Pairing names with scores using zip\n",
    "scores = [90, 85, 88, 92]\n",
    "combined = list(zip(names, scores))\n",
    "print(\"Combined Names and Scores:\", combined)\n",
    "# Who knew that lambda could make functional programming almost as fun as watching movies on a lazy Sunday? Just almost though.hahaha lol just kidding "
   ]
  },
  {
   "cell_type": "markdown",
   "metadata": {},
   "source": []
  }
 ],
 "metadata": {
  "kernelspec": {
   "display_name": "Python 3",
   "language": "python",
   "name": "python3"
  },
  "language_info": {
   "codemirror_mode": {
    "name": "ipython",
    "version": 3
   },
   "file_extension": ".py",
   "mimetype": "text/x-python",
   "name": "python",
   "nbconvert_exporter": "python",
   "pygments_lexer": "ipython3",
   "version": "3.11.9"
  }
 },
 "nbformat": 4,
 "nbformat_minor": 2
}
