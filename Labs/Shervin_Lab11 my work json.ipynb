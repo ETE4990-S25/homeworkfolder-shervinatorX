{
 "cells": [
  {
   "cell_type": "markdown",
   "metadata": {},
   "source": [
    "# Shervin Lab 11 Report\n",
    "## Understanding the Data\n",
    "### Exploratory Data Analysis (EDA)\n",
    "In this lab, we will:\n",
    "- Load and understand the dataset\n",
    "- Clean up the data\n",
    "- Perform Exploratory Data Analysis (EDA)\n",
    "- Visualize key relationships\n",
    "- Prepare the data for modeling"
   ]
  },
  {
   "cell_type": "markdown",
   "metadata": {},
   "source": [
    "# lab 11 "
   ]
  },
  {
   "cell_type": "code",
   "execution_count": null,
   "metadata": {},
   "outputs": [],
   "source": [
    "# Importing Libraries\n",
    "import pandas as pd\n",
    "import numpy as np\n",
    "import seaborn as sns\n",
    "import matplotlib.pyplot as plt\n",
    "from sklearn.model_selection import train_test_split\n",
    "from sklearn.tree import DecisionTreeRegressor\n",
    "from sklearn.metrics import r2_score, mean_absolute_error\n",
    "\n",
    "# Setting Seaborn Style\n",
    "sns.set(style='whitegrid')\n",
    "\n",
    "# For inline plotting (only needed in Jupyter)\n",
    "# plt.show() will handle plotting outside Jupyter this way it can work everywhere not just in jupiter notbook :D "
   ]
  }
 ],
 "metadata": {
  "kernelspec": {
   "display_name": "Python 3",
   "language": "python",
   "name": "python3"
  },
  "language_info": {
   "name": "python",
   "version": "3.8"
  }
 },
 "nbformat": 4,
 "nbformat_minor": 2
}
