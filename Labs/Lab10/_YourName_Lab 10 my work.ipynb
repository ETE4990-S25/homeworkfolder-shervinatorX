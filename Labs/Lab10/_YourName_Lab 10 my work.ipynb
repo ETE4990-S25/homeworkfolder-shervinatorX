{
 "cells": [
  {
   "cell_type": "markdown",
   "id": "5e447dac-da84-4169-8796-3917ed6d8103",
   "metadata": {},
   "source": [
    "# Lab 10\n",
    "Understanding Docker Networks\n",
    "\n",
    "What is Container Networking?\n",
    "Container networking also called Software Defined Networking (SDN) is what allows Docker networkgin subsystems to work. \n",
    "\n",
    "Some defalt Docker Netwrok drivers are:\n",
    "- Bridge\n",
    "    - a Network that is User-defined to allow for all containers connected on the same network to communicate with eachother. \n",
    "- Host\n",
    "    - a container is attahed to a Docker host. Any traffic routed to the container must be routed from the host system.\n",
    "- Overlay\n",
    "    - Created in a network spanning multiple docker hosts. Think each of your docker containers in the lab talking to eachother\n",
    "- Macvlan\n",
    "    - used in complicated networking to assing logical addresses based on MAC addresses to the virtual network interfaces making it apear as if the container has a physical network interaface connected to the network. Used in legacy applications.\n",
    "- None\n",
    "    -  the container only has a loopback interface so it can talk to itself.\n",
    "\n"
   ]
  },
  {
   "cell_type": "markdown",
   "id": "6c1971a0-cbb0-4889-bf10-59d6f08cb1ec",
   "metadata": {},
   "source": [
    "# Part 1 - Setup"
   ]
  },
  {
   "cell_type": "code",
   "execution_count": 1,
   "id": "6acffbb4-8220-4bf2-bed2-15113dad9621",
   "metadata": {},
   "outputs": [
    {
     "name": "stderr",
     "output_type": "stream",
     "text": [
      "docker: error during connect: Head \"http://%2F%2F.%2Fpipe%2FdockerDesktopLinuxEngine/_ping\": open //./pipe/dockerDesktopLinuxEngine: The system cannot find the file specified.\n",
      "\n",
      "Run 'docker run --help' for more information\n"
     ]
    }
   ],
   "source": [
    "!docker run -d --name nginx --network=none -p 81:81 nginx"
   ]
  },
  {
   "cell_type": "markdown",
   "id": "60e00c2d",
   "metadata": {},
   "source": [
    "#  Markdown Cell (at the top):\n",
    "markdown\n",
    "Copy\n",
    "Edit\n",
    "# Lab 10 - Docker Network Monitoring\n",
    "**Name:** Shervin Hosseinian  \n",
    "**Date:** April 2025\n",
    "\n",
    "In this lab, I am trying to use Docker containers and the Docker Python SDK to explore networking. I launched containers, inspected their IP addresses, and with using Python codes i will try to monitor their status, relaunch them if they shut down, and scan their logs for any errors or warnings. Notes to help me understand and follow!"
   ]
  },
  {
   "cell_type": "markdown",
   "id": "e4146472",
   "metadata": {},
   "source": [
    "# Code Cell (Part 1 – Check Container IPs):"
   ]
  },
  {
   "cell_type": "code",
   "execution_count": null,
   "id": "07c9cdf4",
   "metadata": {},
   "outputs": [],
   "source": [
    "import docker\n",
    "\n",
    "client = docker.from_env()\n",
    "\n",
    "def check_container_ips(container_names):\n",
    "    for name in container_names:\n",
    "        try:\n",
    "            container = client.containers.get(name)\n",
    "            networks = container.attrs['NetworkSettings']['Networks']\n",
    "            for net_name, net_data in networks.items():\n",
    "                ip = net_data.get('IPAddress', '')\n",
    "                if ip:\n",
    "                    print(f\"{name} is connected to '{net_name}' with IP: {ip}\")\n",
    "                else:\n",
    "                    print(f\"{name} is in '{net_name}' but has NO IP\")\n",
    "        except docker.errors.NotFound:\n",
    "            print(f\"Container '{name}' not found.\")\n",
    "        except Exception as e:\n",
    "            print(f\"Error checking '{name}': {e}\")\n",
    "\n",
    "check_container_ips([\"mysql\", \"adminer\"])"
   ]
  },
  {
   "cell_type": "markdown",
   "id": "e4acdeab",
   "metadata": {},
   "source": [
    "# Code Cell (Part 2 – Monitor & Restart):"
   ]
  },
  {
   "cell_type": "code",
   "execution_count": null,
   "id": "73b2a68d",
   "metadata": {},
   "outputs": [],
   "source": [
    "import time\n",
    "import datetime\n",
    "\n",
    "RESTART_INTERVAL_DAYS = 1\n",
    "WATCHED_CONTAINERS = [\"mysql\", \"adminer\"]\n",
    "last_restart = {name: datetime.datetime.now() for name in WATCHED_CONTAINERS}\n",
    "\n",
    "def restart_if_needed(container, name):\n",
    "    now = datetime.datetime.now()\n",
    "    if (now - last_restart[name]).days >= RESTART_INTERVAL_DAYS:\n",
    "        print(f\"Restarting '{name}' for maintenance.\")\n",
    "        container.restart()\n",
    "        last_restart[name] = now\n",
    "\n",
    "def monitor_logs(container, name):\n",
    "    try:\n",
    "        logs = container.logs(tail=10).decode().lower()\n",
    "        for line in logs.splitlines():\n",
    "            if \"error\" in line or \"warning\" in line:\n",
    "                print(f\"[{name} LOG] {line}\")\n",
    "    except:\n",
    "        print(f\"Could not read logs for '{name}'\")\n",
    "\n",
    "def monitor_containers():\n",
    "    while True:\n",
    "        for name in WATCHED_CONTAINERS:\n",
    "            try:\n",
    "                container = client.containers.get(name)\n",
    "                if container.status != \"running\":\n",
    "                    print(f\"{name} is down. Restarting...\")\n",
    "                    container.start()\n",
    "                else:\n",
    "                    restart_if_needed(container, name)\n",
    "                    monitor_logs(container, name)\n",
    "            except:\n",
    "                print(f\"Issue with container '{name}'\")\n",
    "        time.sleep(60)"
   ]
  },
  {
   "cell_type": "markdown",
   "id": "7c2e897d",
   "metadata": {},
   "source": [
    "## Note:\n",
    "**If you get this error:**\n",
    "\n",
    "*docker: permission denied while trying to connect to the Docker daemon ...*\n",
    "\n",
    "run this in wsl: \n",
    "``` bash\n",
    "sudo usermod -aG docker $USER\n",
    "newgrp docker\n",
    "sudo systemctl restart docker\n",
    "```\n",
    "Run it again....\n",
    "\n",
    "you should get a hash number YAY!\n",
    "\n",
    "`cbb2f01cd1b...`\n",
    "\n",
    "--------------------------------------\n",
    "If you are still getting the error\n",
    "\n",
    "\n",
    "run this:\n",
    "``` bash\n",
    "sudo chmod 666 /usr/docker.sock\n",
    "```\n",
    "--------------------------------------\n",
    "**If you get this error you did things right**\n",
    "\n",
    "docker: Error response from daemon: Conflict. The container name \"/nginx\n",
    "\n",
    "--------------------------------------\n"
   ]
  },
  {
   "cell_type": "markdown",
   "id": "2d98e870-0a17-4c39-bd13-01e33efb6968",
   "metadata": {},
   "source": [
    "## we now have an nginx container \n",
    "\n",
    "NGINX serves static content (like HTML, CSS, JavaScript, images) efficiently, improving website performance."
   ]
  },
  {
   "cell_type": "code",
   "execution_count": null,
   "id": "bf176171-5f9f-4ac7-9286-425a76eb8305",
   "metadata": {},
   "outputs": [
    {
     "name": "stdout",
     "output_type": "stream",
     "text": [
      "/bin/bash: line 1: curl: command not found\n"
     ]
    }
   ],
   "source": [
    "!curl localhost\n",
    "\n",
    "#the curl command should fail on our system "
   ]
  },
  {
   "cell_type": "markdown",
   "id": "5b36335c",
   "metadata": {},
   "source": [
    "Lets run it on the docker container "
   ]
  },
  {
   "cell_type": "code",
   "execution_count": 19,
   "id": "7d5e5d9d-447c-42fe-8001-32558b74c99f",
   "metadata": {},
   "outputs": [
    {
     "name": "stdout",
     "output_type": "stream",
     "text": [
      "curl: (6) Could not resolve host: google.com\n"
     ]
    }
   ],
   "source": [
    "!docker exec -it nginx2 /bin/sh -c \"curl google.com\"\n",
    "\n"
   ]
  },
  {
   "cell_type": "markdown",
   "id": "9ce3c2a3-94d5-4a41-9ade-d7547f0bf620",
   "metadata": {},
   "source": [
    "* curl:(6) Could not resolve host: google.com\n",
    "\n",
    "As you can see the nginx container can not talk to google.com"
   ]
  },
  {
   "cell_type": "markdown",
   "id": "350ca9e3",
   "metadata": {},
   "source": [
    "# Part 2 - Understanding the network \n",
    "Docker comes with a subcommand for handling Docker networks."
   ]
  },
  {
   "cell_type": "markdown",
   "id": "74a86e31",
   "metadata": {},
   "source": [
    "#  File 2: _Shervin_lab10_monitor.py"
   ]
  },
  {
   "cell_type": "code",
   "execution_count": null,
   "id": "c1593b80",
   "metadata": {},
   "outputs": [],
   "source": [
    "# Author: Shervin Hosseinian\n",
    "# Lab 10 - Docker Network Monitoring\n",
    "# Date: April 2025\n",
    "\n",
    "import docker\n",
    "import time\n",
    "import datetime\n",
    "\n",
    "client = docker.from_env()\n",
    "RESTART_INTERVAL_DAYS = 1\n",
    "WATCHED_CONTAINERS = [\"mysql\", \"adminer\"]\n",
    "last_restart = {name: datetime.datetime.now() for name in WATCHED_CONTAINERS}\n",
    "\n",
    "def restart_if_needed(container, name):\n",
    "    now = datetime.datetime.now()\n",
    "    if (now - last_restart[name]).days >= RESTART_INTERVAL_DAYS:\n",
    "        print(f\"Restarting '{name}' after {RESTART_INTERVAL_DAYS} day(s).\")\n",
    "        container.restart()\n",
    "        last_restart[name] = now\n",
    "\n",
    "def monitor_logs(container, name):\n",
    "    try:\n",
    "        logs = container.logs(tail=10).decode().lower()\n",
    "        for line in logs.splitlines():\n",
    "            if \"error\" in line or \"warning\" in line:\n",
    "                print(f\"[{name} LOG WARNING] {line}\")\n",
    "    except:\n",
    "        print(f\"Could not read logs for '{name}'\")\n",
    "\n",
    "def monitor_containers():\n",
    "    while True:\n",
    "        for name in WATCHED_CONTAINERS:\n",
    "            try:\n",
    "                container = client.containers.get(name)\n",
    "                if container.status != \"running\":\n",
    "                    print(f\"{name} is down. Restarting...\")\n",
    "                    container.start()\n",
    "                else:\n",
    "                    restart_if_needed(container, name)\n",
    "                    monitor_logs(container, name)\n",
    "            except:\n",
    "                print(f\"Problem with container '{name}'\")\n",
    "        time.sleep(60)\n",
    "\n",
    "if __name__ == \"__main__\":\n",
    "    monitor_containers()"
   ]
  },
  {
   "cell_type": "code",
   "execution_count": 20,
   "id": "525d321d-03b1-40d5-900a-dea58424f8c7",
   "metadata": {},
   "outputs": [
    {
     "name": "stdout",
     "output_type": "stream",
     "text": [
      "\n",
      "Usage:  docker network COMMAND\n",
      "\n",
      "Manage networks\n",
      "\n",
      "Commands:\n",
      "  connect     Connect a container to a network\n",
      "  create      Create a network\n",
      "  disconnect  Disconnect a container from a network\n",
      "  inspect     Display detailed information on one or more networks\n",
      "  ls          List networks\n",
      "  prune       Remove all unused networks\n",
      "  rm          Remove one or more networks\n",
      "\n",
      "Run 'docker network COMMAND --help' for more information on a command.\n"
     ]
    }
   ],
   "source": [
    "!docker network"
   ]
  },
  {
   "cell_type": "markdown",
   "id": "520215d5",
   "metadata": {},
   "source": [
    "running `docker network ls` will show us all the names of the networks.\n"
   ]
  },
  {
   "cell_type": "code",
   "execution_count": null,
   "id": "0b43ead8-1577-43d7-b877-f6e3868e861f",
   "metadata": {},
   "outputs": [
    {
     "name": "stdout",
     "output_type": "stream",
     "text": [
      "NETWORK ID     NAME      DRIVER    SCOPE\n",
      "d2b08c95b890   bridge    bridge    local\n",
      "d873972cad3b   host      host      local\n",
      "f7b0737ec118   none      null      local\n"
     ]
    }
   ],
   "source": [
    "!docker network ls "
   ]
  },
  {
   "cell_type": "markdown",
   "id": "1e1283e9",
   "metadata": {},
   "source": [
    "In the above you can see that there is a none network. \n",
    "\n",
    "When we setup the docker nginx server we did not give it a network\n",
    "\n",
    "lets look for the nginx server"
   ]
  },
  {
   "cell_type": "code",
   "execution_count": 23,
   "id": "42b70960-d6ad-45b7-90ec-086ecfaa3fcf",
   "metadata": {},
   "outputs": [
    {
     "name": "stdout",
     "output_type": "stream",
     "text": [
      "[\n",
      "    {\n",
      "        \"Name\": \"none\",\n",
      "        \"Id\": \"f7b0737ec1188b800684be7edfaea4ba5d2871bc12f00933bf55712a110ee27d\",\n",
      "        \"Created\": \"2025-04-18T12:24:26.478234728-07:00\",\n",
      "        \"Scope\": \"local\",\n",
      "        \"Driver\": \"null\",\n",
      "        \"EnableIPv6\": false,\n",
      "        \"IPAM\": {\n",
      "            \"Driver\": \"default\",\n",
      "            \"Options\": null,\n",
      "            \"Config\": null\n",
      "        },\n",
      "        \"Internal\": false,\n",
      "        \"Attachable\": false,\n",
      "        \"Ingress\": false,\n",
      "        \"ConfigFrom\": {\n",
      "            \"Network\": \"\"\n",
      "        },\n",
      "        \"ConfigOnly\": false,\n",
      "        \"Containers\": {\n",
      "            \"cbb2f01cd1b1f17d502470e765159bc3400ca19f6862028bbc0ebb2c065f8183\": {\n",
      "                \"Name\": \"nginx2\",\n",
      "                \"EndpointID\": \"64ba2adbfd4b93f0be8a480f884b4417c5e69f2f221294786f127342b46cf6b8\",\n",
      "                \"MacAddress\": \"\",\n",
      "                \"IPv4Address\": \"\",\n",
      "                \"IPv6Address\": \"\"\n",
      "            }\n",
      "        },\n",
      "        \"Options\": {},\n",
      "        \"Labels\": {}\n",
      "    }\n",
      "]\n"
     ]
    }
   ],
   "source": [
    "!docker network inspect none "
   ]
  },
  {
   "cell_type": "markdown",
   "id": "c447bfd3",
   "metadata": {},
   "source": [
    "## OK Enough of that nonsense\n",
    "Lets install docker and use the API to do some work this is a python class after all"
   ]
  },
  {
   "cell_type": "code",
   "execution_count": 25,
   "id": "b59cdbbe",
   "metadata": {},
   "outputs": [
    {
     "name": "stdout",
     "output_type": "stream",
     "text": [
      "Defaulting to user installation because normal site-packages is not writeable\n",
      "Collecting docker\n",
      "  Downloading docker-7.1.0-py3-none-any.whl.metadata (3.8 kB)\n",
      "Requirement already satisfied: requests>=2.26.0 in /usr/lib/python3/dist-packages (from docker) (2.31.0)\n",
      "Requirement already satisfied: urllib3>=1.26.0 in /usr/lib/python3/dist-packages (from docker) (2.0.7)\n",
      "Downloading docker-7.1.0-py3-none-any.whl (147 kB)\n",
      "\u001b[2K   \u001b[90m━━━━━━━━━━━━━━━━━━━━━━━━━━━━━━━━━━━━━━━\u001b[0m \u001b[32m147.8/147.8 kB\u001b[0m \u001b[31m832.3 kB/s\u001b[0m eta \u001b[36m0:00:00\u001b[0ma \u001b[36m0:00:01\u001b[0m\n",
      "\u001b[?25hInstalling collected packages: docker\n",
      "Successfully installed docker-7.1.0\n"
     ]
    }
   ],
   "source": [
    "!pip install docker"
   ]
  },
  {
   "cell_type": "code",
   "execution_count": 27,
   "id": "df37d71d",
   "metadata": {},
   "outputs": [
    {
     "name": "stdout",
     "output_type": "stream",
     "text": [
      "Docker version: 26.1.3\n"
     ]
    }
   ],
   "source": [
    "import docker\n",
    "\n",
    "client = docker.from_env()\n",
    "\n",
    "print(\"Docker version:\", client.version()['Version'])\n"
   ]
  },
  {
   "cell_type": "markdown",
   "id": "2f463d0d",
   "metadata": {},
   "source": [
    "Lets create a quick code to list the containers using the docker client"
   ]
  },
  {
   "cell_type": "code",
   "execution_count": 31,
   "id": "eb64257a",
   "metadata": {},
   "outputs": [
    {
     "name": "stdout",
     "output_type": "stream",
     "text": [
      "nginx2 - running\n"
     ]
    }
   ],
   "source": [
    "def list_running_containers():\n",
    "    containers = client.containers.list(all=True)# list all containers\n",
    "    #containers = client.containers.list() #list only running containers\n",
    "    for container in containers:\n",
    "        print(f\"{container.name} - {container.status}\")\n",
    "\n",
    "list_running_containers()"
   ]
  },
  {
   "cell_type": "markdown",
   "id": "18c4ee6c",
   "metadata": {},
   "source": [
    "Here you can see the running container and no surprise it is the nginx we started before\n"
   ]
  },
  {
   "cell_type": "code",
   "execution_count": null,
   "id": "32e42e0a",
   "metadata": {},
   "outputs": [
    {
     "name": "stdout",
     "output_type": "stream",
     "text": [
      "nginx2 in network 'none' has IP: \n"
     ]
    }
   ],
   "source": [
    "#lest identify the network of the nginx container\n",
    "def show_container_ip(container_name):\n",
    "    container = client.containers.get(container_name)\n",
    "    networks = container.attrs['NetworkSettings']['Networks']\n",
    "    \n",
    "    for net_name, net_data in networks.items():\n",
    "        print(f\"{container_name} in network '{net_name}' has IP: {net_data['IPAddress']}\")\n",
    "\n",
    "\n",
    "show_container_ip(\"nginx\")\n"
   ]
  },
  {
   "cell_type": "markdown",
   "id": "1748a68f",
   "metadata": {},
   "source": [
    "again no surprise there is no IP address as it does not have a network. "
   ]
  },
  {
   "cell_type": "markdown",
   "id": "27f669c9",
   "metadata": {},
   "source": [
    "### ok I lied back to creating more stuff though the CLI"
   ]
  },
  {
   "cell_type": "code",
   "execution_count": null,
   "id": "8689fe8e-6afa-48a1-9c86-e05cf5f0ad51",
   "metadata": {},
   "outputs": [
    {
     "name": "stdout",
     "output_type": "stream",
     "text": [
      "Unable to find image 'mysql:8' locally\n",
      "8: Pulling from library/mysql\n",
      "\n",
      "\u001b[1B72a6e83b: Pulling fs layer \n",
      "\u001b[1B8f7bea3b: Pulling fs layer \n",
      "\u001b[1Bc4c227a4: Pulling fs layer \n",
      "\u001b[1B6885cc1f: Pulling fs layer \n",
      "\u001b[1Ba68c5921: Pulling fs layer \n",
      "\u001b[1Bf079852f: Pulling fs layer \n",
      "\u001b[1B287da18a: Pulling fs layer \n",
      "\u001b[1B571eacc0: Pulling fs layer \n",
      "\u001b[1B39f5bee3: Pulling fs layer \n",
      "\u001b[1B4e5cd318: Pull complete .33kB/5.33kBBBA\u001b[2K\u001b[8A\u001b[2K\u001b[10A\u001b[2K\u001b[8A\u001b[2K\u001b[8A\u001b[2K\u001b[8A\u001b[2K\u001b[8A\u001b[2K\u001b[10A\u001b[2K\u001b[10A\u001b[2K\u001b[10A\u001b[2K\u001b[10A\u001b[2K\u001b[7A\u001b[2K\u001b[10A\u001b[2K\u001b[7A\u001b[2K\u001b[10A\u001b[2K\u001b[7A\u001b[2K\u001b[7A\u001b[2K\u001b[10A\u001b[2K\u001b[7A\u001b[2K\u001b[7A\u001b[2K\u001b[10A\u001b[2K\u001b[7A\u001b[2K\u001b[7A\u001b[2K\u001b[7A\u001b[2K\u001b[7A\u001b[2K\u001b[7A\u001b[2K\u001b[7A\u001b[2K\u001b[7A\u001b[2K\u001b[7A\u001b[2K\u001b[7A\u001b[2K\u001b[7A\u001b[2K\u001b[7A\u001b[2K\u001b[5A\u001b[2K\u001b[10A\u001b[2K\u001b[7A\u001b[2K\u001b[10A\u001b[2K\u001b[7A\u001b[2K\u001b[7A\u001b[2K\u001b[10A\u001b[2K\u001b[7A\u001b[2K\u001b[10A\u001b[2K\u001b[7A\u001b[2K\u001b[7A\u001b[2K\u001b[7A\u001b[2K\u001b[10A\u001b[2K\u001b[7A\u001b[2K\u001b[10A\u001b[2K\u001b[7A\u001b[2K\u001b[10A\u001b[2K\u001b[10A\u001b[2K\u001b[10A\u001b[2K\u001b[4A\u001b[2K\u001b[10A\u001b[2K\u001b[4A\u001b[2K\u001b[10A\u001b[2K\u001b[10A\u001b[2K\u001b[10A\u001b[2K\u001b[4A\u001b[2K\u001b[10A\u001b[2K\u001b[4A\u001b[2K\u001b[10A\u001b[2K\u001b[4A\u001b[2K\u001b[10A\u001b[2K\u001b[4A\u001b[2K\u001b[10A\u001b[2K\u001b[4A\u001b[2K\u001b[10A\u001b[2K\u001b[4A\u001b[2K\u001b[10A\u001b[2K\u001b[4A\u001b[2K\u001b[10A\u001b[2K\u001b[4A\u001b[2K\u001b[4A\u001b[2K\u001b[10A\u001b[2K\u001b[4A\u001b[2K\u001b[2A\u001b[2K\u001b[10A\u001b[2K\u001b[4A\u001b[2K\u001b[2A\u001b[2K\u001b[10A\u001b[2K\u001b[2A\u001b[2K\u001b[4A\u001b[2K\u001b[2A\u001b[2K\u001b[10A\u001b[2K\u001b[2A\u001b[2K\u001b[4A\u001b[2K\u001b[2A\u001b[2K\u001b[4A\u001b[2K\u001b[10A\u001b[2K\u001b[2A\u001b[2K\u001b[10A\u001b[2K\u001b[2A\u001b[2K\u001b[10A\u001b[2K\u001b[4A\u001b[2K\u001b[10A\u001b[2K\u001b[2A\u001b[2K\u001b[4A\u001b[2K\u001b[10A\u001b[2K\u001b[2A\u001b[2K\u001b[10A\u001b[2K\u001b[2A\u001b[2K\u001b[10A\u001b[2K\u001b[2A\u001b[2K\u001b[10A\u001b[2K\u001b[10A\u001b[2K\u001b[2A\u001b[2K\u001b[10A\u001b[2K\u001b[4A\u001b[2K\u001b[2A\u001b[2K\u001b[10A\u001b[2K\u001b[2A\u001b[2K\u001b[10A\u001b[2K\u001b[10A\u001b[2K\u001b[10A\u001b[2K\u001b[10A\u001b[2K\u001b[4A\u001b[2K\u001b[10A\u001b[2K\u001b[2A\u001b[2K\u001b[10A\u001b[2K\u001b[10A\u001b[2K\u001b[2A\u001b[2K\u001b[10A\u001b[2K\u001b[10A\u001b[2K\u001b[2A\u001b[2K\u001b[10A\u001b[2K\u001b[10A\u001b[2K\u001b[4A\u001b[2K\u001b[2A\u001b[2K\u001b[4A\u001b[2K\u001b[2A\u001b[2K\u001b[10A\u001b[2K\u001b[2A\u001b[2K\u001b[10A\u001b[2K\u001b[10A\u001b[2K\u001b[10A\u001b[2K\u001b[4A\u001b[2K\u001b[10A\u001b[2K\u001b[2A\u001b[2K\u001b[10A\u001b[2K\u001b[10A\u001b[2K\u001b[10A\u001b[2K\u001b[2A\u001b[2K\u001b[10A\u001b[2K\u001b[10A\u001b[2K\u001b[2A\u001b[2K\u001b[2A\u001b[2K\u001b[10A\u001b[2K\u001b[2A\u001b[2K\u001b[4A\u001b[2K\u001b[2A\u001b[2K\u001b[10A\u001b[2K\u001b[2A\u001b[2K\u001b[10A\u001b[2K\u001b[2A\u001b[2K\u001b[10A\u001b[2K\u001b[4A\u001b[2K\u001b[10A\u001b[2K\u001b[2A\u001b[2K\u001b[10A\u001b[2K\u001b[2A\u001b[2K\u001b[10A\u001b[2K\u001b[10A\u001b[2K\u001b[4A\u001b[2K\u001b[10A\u001b[2K\u001b[2A\u001b[2K\u001b[10A\u001b[2K\u001b[2A\u001b[2K\u001b[2A\u001b[2K\u001b[10A\u001b[2K\u001b[10A\u001b[2K\u001b[4A\u001b[2K\u001b[10A\u001b[2K\u001b[10A\u001b[2K\u001b[10A\u001b[2K\u001b[2A\u001b[2K\u001b[10A\u001b[2K\u001b[10A\u001b[2K\u001b[10A\u001b[2K\u001b[10A\u001b[2K\u001b[10A\u001b[2K\u001b[4A\u001b[2K\u001b[2A\u001b[2K\u001b[10A\u001b[2K\u001b[1A\u001b[2K\u001b[8A\u001b[2K\u001b[7A\u001b[2K\u001b[7A\u001b[2K\u001b[2A\u001b[2K\u001b[4A\u001b[2K\u001b[2A\u001b[2K\u001b[2A\u001b[2K\u001b[2A\u001b[2K\u001b[2A\u001b[2K\u001b[2A\u001b[2K\u001b[4A\u001b[2K\u001b[2A\u001b[2K\u001b[2A\u001b[2K\u001b[4A\u001b[2K\u001b[2A\u001b[2K\u001b[4A\u001b[2K\u001b[2A\u001b[2K\u001b[2A\u001b[2K\u001b[2A\u001b[2K\u001b[4A\u001b[2K\u001b[2A\u001b[2K\u001b[2A\u001b[2K\u001b[4A\u001b[2K\u001b[2A\u001b[2K\u001b[2A\u001b[2K\u001b[4A\u001b[2K\u001b[2A\u001b[2K\u001b[2A\u001b[2K\u001b[2A\u001b[2K\u001b[2A\u001b[2K\u001b[2A\u001b[2K\u001b[4A\u001b[2K\u001b[2A\u001b[2K\u001b[2A\u001b[2K\u001b[4A\u001b[2K\u001b[2A\u001b[2K\u001b[4A\u001b[2K\u001b[2A\u001b[2K\u001b[2A\u001b[2K\u001b[4A\u001b[2K\u001b[2A\u001b[2K\u001b[2A\u001b[2K\u001b[4A\u001b[2K\u001b[2A\u001b[2K\u001b[2A\u001b[2K\u001b[4A\u001b[2K\u001b[2A\u001b[2K\u001b[4A\u001b[2K\u001b[2A\u001b[2K\u001b[2A\u001b[2K\u001b[4A\u001b[2K\u001b[2A\u001b[2K\u001b[4A\u001b[2K\u001b[2A\u001b[2K\u001b[4A\u001b[2K\u001b[2A\u001b[2K\u001b[2A\u001b[2K\u001b[4A\u001b[2K\u001b[2A\u001b[2K\u001b[4A\u001b[2K\u001b[2A\u001b[2K\u001b[4A\u001b[2K\u001b[2A\u001b[2K\u001b[2A\u001b[2K\u001b[2A\u001b[2K\u001b[4A\u001b[2K\u001b[2A\u001b[2K\u001b[2A\u001b[2K\u001b[4A\u001b[2K\u001b[2A\u001b[2K\u001b[4A\u001b[2K\u001b[2A\u001b[2K\u001b[4A\u001b[2K\u001b[2A\u001b[2K\u001b[2A\u001b[2K\u001b[4A\u001b[2K\u001b[2A\u001b[2K\u001b[2A\u001b[2K\u001b[4A\u001b[2K\u001b[2A\u001b[2K\u001b[2A\u001b[2K\u001b[2A\u001b[2K\u001b[4A\u001b[2K\u001b[2A\u001b[2K\u001b[4A\u001b[2K\u001b[2A\u001b[2K\u001b[4A\u001b[2K\u001b[2A\u001b[2K\u001b[2A\u001b[2K\u001b[4A\u001b[2K\u001b[2A\u001b[2K\u001b[4A\u001b[2K\u001b[2A\u001b[2K\u001b[2A\u001b[2K\u001b[4A\u001b[2K\u001b[2A\u001b[2K\u001b[4A\u001b[2K\u001b[2A\u001b[2K\u001b[2A\u001b[2K\u001b[2A\u001b[2K\u001b[4A\u001b[2K\u001b[2A\u001b[2K\u001b[4A\u001b[2K\u001b[2A\u001b[2K\u001b[4A\u001b[2K\u001b[2A\u001b[2K\u001b[4A\u001b[2K\u001b[2A\u001b[2K\u001b[2A\u001b[2K\u001b[4A\u001b[2K\u001b[2A\u001b[2K\u001b[4A\u001b[2K\u001b[2A\u001b[2K\u001b[2A\u001b[2K\u001b[4A\u001b[2K\u001b[2A\u001b[2K\u001b[2A\u001b[2K\u001b[2A\u001b[2K\u001b[4A\u001b[2K\u001b[2A\u001b[2K\u001b[2A\u001b[2K\u001b[4A\u001b[2K\u001b[2A\u001b[2K\u001b[4A\u001b[2K\u001b[2A\u001b[2K\u001b[2A\u001b[2K\u001b[4A\u001b[2K\u001b[2A\u001b[2K\u001b[4A\u001b[2K\u001b[2A\u001b[2K\u001b[4A\u001b[2K\u001b[2A\u001b[2K\u001b[4A\u001b[2K\u001b[2A\u001b[2K\u001b[4A\u001b[2K\u001b[2A\u001b[2K\u001b[4A\u001b[2K\u001b[2A\u001b[2K\u001b[4A\u001b[2K\u001b[2A\u001b[2K\u001b[4A\u001b[2K\u001b[2A\u001b[2K\u001b[4A\u001b[2K\u001b[2A\u001b[2K\u001b[4A\u001b[2K\u001b[2A\u001b[2K\u001b[4A\u001b[2K\u001b[2A\u001b[2K\u001b[4A\u001b[2K\u001b[2A\u001b[2K\u001b[4A\u001b[2K\u001b[4A\u001b[2K\u001b[2A\u001b[2K\u001b[4A\u001b[2K\u001b[2A\u001b[2K\u001b[4A\u001b[2K\u001b[2A\u001b[2K\u001b[4A\u001b[2K\u001b[2A\u001b[2K\u001b[4A\u001b[2K\u001b[2A\u001b[2K\u001b[4A\u001b[2K\u001b[4A\u001b[2K\u001b[4A\u001b[2K\u001b[4A\u001b[2K\u001b[4A\u001b[2K\u001b[4A\u001b[2K\u001b[2A\u001b[2K\u001b[2A\u001b[2K\u001b[2A\u001b[2K\u001b[2A\u001b[2K\u001b[2A\u001b[2K\u001b[2A\u001b[2K\u001b[2A\u001b[2K\u001b[2A\u001b[2K\u001b[2A\u001b[2K\u001b[2A\u001b[2K\u001b[2A\u001b[2K\u001b[2A\u001b[2K\u001b[2A\u001b[2K\u001b[2A\u001b[2K\u001b[2A\u001b[2K\u001b[2A\u001b[2K\u001b[2A\u001b[2K\u001b[2A\u001b[2K\u001b[2A\u001b[2K\u001b[2A\u001b[2K\u001b[2A\u001b[2K\u001b[2A\u001b[2K\u001b[2A\u001b[2K\u001b[2A\u001b[2K\u001b[2A\u001b[2K\u001b[2A\u001b[2K\u001b[2A\u001b[2K\u001b[2A\u001b[2K\u001b[2A\u001b[2K\u001b[2A\u001b[2K\u001b[2A\u001b[2K\u001b[2A\u001b[2K\u001b[2A\u001b[2K\u001b[2A\u001b[2K\u001b[2A\u001b[2K\u001b[2A\u001b[2K\u001b[2A\u001b[2K\u001b[2A\u001b[2K\u001b[2A\u001b[2K\u001b[2A\u001b[2K\u001b[2A\u001b[2K\u001b[2A\u001b[2K\u001b[2A\u001b[2K\u001b[2A\u001b[2K\u001b[2A\u001b[2K\u001b[2A\u001b[2K\u001b[2A\u001b[2K\u001b[2A\u001b[2K\u001b[2A\u001b[2K\u001b[2A\u001b[2K\u001b[2A\u001b[2K\u001b[2A\u001b[2K\u001b[2A\u001b[2K\u001b[2A\u001b[2K\u001b[2A\u001b[2K\u001b[2A\u001b[2K\u001b[2A\u001b[2K\u001b[2A\u001b[2K\u001b[2A\u001b[2K\u001b[2A\u001b[2K\u001b[2A\u001b[2K\u001b[2A\u001b[2K\u001b[2A\u001b[2K\u001b[2A\u001b[2K\u001b[2A\u001b[2K\u001b[2A\u001b[2K\u001b[2A\u001b[2K\u001b[2A\u001b[2K\u001b[2A\u001b[2K\u001b[2A\u001b[2K\u001b[2A\u001b[2K\u001b[2A\u001b[2K\u001b[2A\u001b[2K\u001b[2A\u001b[2K\u001b[2A\u001b[2K\u001b[2A\u001b[2K\u001b[2A\u001b[2K\u001b[2A\u001b[2K\u001b[2A\u001b[2K\u001b[2A\u001b[2K\u001b[2A\u001b[2K\u001b[2A\u001b[2K\u001b[2A\u001b[2K\u001b[2A\u001b[2K\u001b[2A\u001b[2K\u001b[2A\u001b[2K\u001b[2A\u001b[2K\u001b[2A\u001b[2K\u001b[2A\u001b[2K\u001b[2A\u001b[2K\u001b[2A\u001b[2K\u001b[2A\u001b[2K\u001b[2A\u001b[2K\u001b[2A\u001b[2K\u001b[2A\u001b[2K\u001b[2A\u001b[2K\u001b[2A\u001b[2K\u001b[2A\u001b[2K\u001b[2A\u001b[2K\u001b[2A\u001b[2K\u001b[2A\u001b[2K\u001b[2A\u001b[2K\u001b[2A\u001b[2K\u001b[2A\u001b[2K\u001b[2A\u001b[2K\u001b[2A\u001b[2K\u001b[2A\u001b[2K\u001b[2A\u001b[2K\u001b[2A\u001b[2K\u001b[2A\u001b[2K\u001b[2A\u001b[2K\u001b[2A\u001b[2K\u001b[2A\u001b[2KDigest: sha256:3a89257a3a979e46e3650628bea227a6bc318a2bdc95f954489ec89573a4c6a2\n",
      "Status: Downloaded newer image for mysql:8\n",
      "027c1da3b4d506bec8858248eb85963873771631b77afae41b140d85a25ca4f8\n",
      "2025-04-18 20:36:45+00:00 [Note] [Entrypoint]: Entrypoint script for MySQL Server 8.4.5-1.el9 started.\n",
      "2025-04-18 20:36:45+00:00 [Note] [Entrypoint]: Switching to dedicated user 'mysql'\n",
      "2025-04-18 20:36:45+00:00 [Note] [Entrypoint]: Entrypoint script for MySQL Server 8.4.5-1.el9 started.\n",
      "2025-04-18 20:36:45+00:00 [Note] [Entrypoint]: Initializing database files\n",
      "2025-04-18T20:36:45.900060Z 0 [System] [MY-015017] [Server] MySQL Server Initialization - start.\n",
      "2025-04-18T20:36:45.902780Z 0 [System] [MY-013169] [Server] /usr/sbin/mysqld (mysqld 8.4.5) initializing of server in progress as process 80\n",
      "2025-04-18T20:36:45.917744Z 1 [System] [MY-013576] [InnoDB] InnoDB initialization has started.\n",
      "2025-04-18T20:36:46.132915Z 1 [System] [MY-013577] [InnoDB] InnoDB initialization has ended.\n",
      "2025-04-18T20:36:47.000749Z 6 [Warning] [MY-010453] [Server] root@localhost is created with an empty password ! Please consider switching off the --initialize-insecure option.\n",
      "2025-04-18T20:36:48.868944Z 0 [System] [MY-015018] [Server] MySQL Server Initialization - end.\n",
      "2025-04-18 20:36:48+00:00 [Note] [Entrypoint]: Database files initialized\n",
      "2025-04-18 20:36:48+00:00 [Note] [Entrypoint]: Starting temporary server\n",
      "2025-04-18T20:36:48.945141Z 0 [System] [MY-015015] [Server] MySQL Server - start.\n",
      "2025-04-18T20:36:49.177765Z 0 [System] [MY-010116] [Server] /usr/sbin/mysqld (mysqld 8.4.5) starting as process 121\n",
      "2025-04-18T20:36:49.197421Z 1 [System] [MY-013576] [InnoDB] InnoDB initialization has started.\n",
      "2025-04-18T20:36:49.431157Z 1 [System] [MY-013577] [InnoDB] InnoDB initialization has ended.\n",
      "2025-04-18T20:36:49.783014Z 0 [Warning] [MY-010068] [Server] CA certificate ca.pem is self signed.\n",
      "2025-04-18T20:36:49.783064Z 0 [System] [MY-013602] [Server] Channel mysql_main configured to support TLS. Encrypted connections are now supported for this channel.\n",
      "2025-04-18T20:36:49.786611Z 0 [Warning] [MY-011810] [Server] Insecure configuration for --pid-file: Location '/var/run/mysqld' in the path is accessible to all OS users. Consider choosing a different directory.\n",
      "2025-04-18T20:36:49.817794Z 0 [System] [MY-011323] [Server] X Plugin ready for connections. Socket: /var/run/mysqld/mysqlx.sock\n",
      "2025-04-18T20:36:49.817893Z 0 [System] [MY-010931] [Server] /usr/sbin/mysqld: ready for connections. Version: '8.4.5'  socket: '/var/run/mysqld/mysqld.sock'  port: 0  MySQL Community Server - GPL.\n",
      "2025-04-18 20:36:49+00:00 [Note] [Entrypoint]: Temporary server started.\n",
      "'/var/lib/mysql/mysql.sock' -> '/var/run/mysqld/mysqld.sock'\n",
      "Warning: Unable to load '/usr/share/zoneinfo/iso3166.tab' as time zone. Skipping it.\n",
      "Warning: Unable to load '/usr/share/zoneinfo/leap-seconds.list' as time zone. Skipping it.\n",
      "Warning: Unable to load '/usr/share/zoneinfo/leapseconds' as time zone. Skipping it.\n",
      "Warning: Unable to load '/usr/share/zoneinfo/tzdata.zi' as time zone. Skipping it.\n",
      "Warning: Unable to load '/usr/share/zoneinfo/zone.tab' as time zone. Skipping it.\n",
      "Warning: Unable to load '/usr/share/zoneinfo/zone1970.tab' as time zone. Skipping it.\n",
      "\n",
      "2025-04-18 20:36:51+00:00 [Note] [Entrypoint]: Stopping temporary server\n",
      "2025-04-18T20:36:51.317753Z 10 [System] [MY-013172] [Server] Received SHUTDOWN from user root. Shutting down mysqld (Version: 8.4.5).\n",
      "2025-04-18T20:36:52.110379Z 0 [System] [MY-010910] [Server] /usr/sbin/mysqld: Shutdown complete (mysqld 8.4.5)  MySQL Community Server - GPL.\n",
      "2025-04-18T20:36:52.110422Z 0 [System] [MY-015016] [Server] MySQL Server - end.\n",
      "2025-04-18 20:36:52+00:00 [Note] [Entrypoint]: Temporary server stopped\n",
      "\n",
      "2025-04-18 20:36:52+00:00 [Note] [Entrypoint]: MySQL init process done. Ready for start up.\n",
      "\n",
      "2025-04-18T20:36:52.356520Z 0 [System] [MY-015015] [Server] MySQL Server - start.\n",
      "2025-04-18T20:36:52.587295Z 0 [System] [MY-010116] [Server] /usr/sbin/mysqld (mysqld 8.4.5) starting as process 1\n",
      "2025-04-18T20:36:52.596067Z 1 [System] [MY-013576] [InnoDB] InnoDB initialization has started.\n",
      "2025-04-18T20:36:52.813176Z 1 [System] [MY-013577] [InnoDB] InnoDB initialization has ended.\n",
      "2025-04-18T20:36:53.102499Z 0 [Warning] [MY-010068] [Server] CA certificate ca.pem is self signed.\n",
      "2025-04-18T20:36:53.102554Z 0 [System] [MY-013602] [Server] Channel mysql_main configured to support TLS. Encrypted connections are now supported for this channel.\n",
      "2025-04-18T20:36:53.106148Z 0 [Warning] [MY-011810] [Server] Insecure configuration for --pid-file: Location '/var/run/mysqld' in the path is accessible to all OS users. Consider choosing a different directory.\n",
      "2025-04-18T20:36:53.142746Z 0 [System] [MY-011323] [Server] X Plugin ready for connections. Bind-address: '::' port: 33060, socket: /var/run/mysqld/mysqlx.sock\n",
      "2025-04-18T20:36:53.142886Z 0 [System] [MY-010931] [Server] /usr/sbin/mysqld: ready for connections. Version: '8.4.5'  socket: '/var/run/mysqld/mysqld.sock'  port: 3306  MySQL Community Server - GPL.\n",
      "^C\n"
     ]
    }
   ],
   "source": [
    "#setup another container for mysql\n",
    "!docker run -d --name mysql -p 3306:3306 -e MYSQL_ROOT_PASSWORD=1 mysql:8\n",
    "#Note the -d means detached mode so no container is using created just the MySQL database "
   ]
  },
  {
   "cell_type": "markdown",
   "id": "b312951a-708d-4e69-80b7-9d37b5bd10fc",
   "metadata": {},
   "source": [
    "## The following needs to be run in the terminal"
   ]
  },
  {
   "cell_type": "code",
   "execution_count": 49,
   "id": "c1b77a0a-53a2-44a7-af22-8a4113d80666",
   "metadata": {},
   "outputs": [
    {
     "name": "stdout",
     "output_type": "stream",
     "text": [
      "c310d01f7f122a768fec334f06b2dd8b1459015c1fa046b0304ca8d54a9ceb8c\n"
     ]
    }
   ],
   "source": [
    "!docker run -d --name adminer -p 8080:8080 adminer\n"
   ]
  },
  {
   "cell_type": "markdown",
   "id": "814b761c",
   "metadata": {},
   "source": [
    "Run the following each in there own terminal\n",
    "\n",
    "``` bash\n",
    "docker logs -f mysql\n",
    "docker logs -f adminer\n",
    "```"
   ]
  },
  {
   "cell_type": "code",
   "execution_count": 41,
   "id": "d3295ddc-40c8-4dc3-bac5-f449cedd6a1c",
   "metadata": {},
   "outputs": [
    {
     "name": "stdout",
     "output_type": "stream",
     "text": [
      "216-            \"GlobalIPv6PrefixLen\": 0,\n",
      "217:            \"IPAddress\": \"172.17.0.2\",\n",
      "218-            \"IPPrefixLen\": 16,\n",
      "--\n",
      "229-                    \"Gateway\": \"172.17.0.1\",\n",
      "230:                    \"IPAddress\": \"172.17.0.2\",\n",
      "231-                    \"IPPrefixLen\": 16,\n",
      "------------------------------\n",
      "mysql in network 'bridge' has IP: 172.17.0.2\n"
     ]
    }
   ],
   "source": [
    "!docker inspect mysql | grep -n1 \"IPAddress\\\":\"\n",
    "# or\n",
    "print(\"-\"*30)\n",
    "show_container_ip(\"mysql\")\n"
   ]
  },
  {
   "cell_type": "code",
   "execution_count": 42,
   "id": "d245598f-5982-448f-826b-dcf2a02ea142",
   "metadata": {},
   "outputs": [
    {
     "name": "stdout",
     "output_type": "stream",
     "text": [
      "220-            \"GlobalIPv6PrefixLen\": 0,\n",
      "221:            \"IPAddress\": \"172.17.0.3\",\n",
      "222-            \"IPPrefixLen\": 16,\n",
      "--\n",
      "233-                    \"Gateway\": \"172.17.0.1\",\n",
      "234:                    \"IPAddress\": \"172.17.0.3\",\n",
      "235-                    \"IPPrefixLen\": 16,\n",
      "------------------------------\n",
      "adminer in network 'bridge' has IP: 172.17.0.3\n"
     ]
    }
   ],
   "source": [
    "!docker inspect adminer| grep  -n1 \"IPAddress\\\":\"\n",
    "# or\n",
    "print(\"-\"*30)\n",
    "show_container_ip(\"adminer\")\n"
   ]
  },
  {
   "cell_type": "markdown",
   "id": "0e8d4efa",
   "metadata": {},
   "source": [
    "### Lets do a bit of cleanup \n",
    "\n",
    "``` bash\n",
    "#lets remove our old container\n",
    "!docker stop adminer\n",
    "!docker rm adminer\n",
    "!docker stop mysql\n",
    "!docker rm mysql\n",
    "!docker stop nginx \n",
    "!docker rm nginx\n",
    "```"
   ]
  },
  {
   "cell_type": "code",
   "execution_count": 51,
   "id": "8b58f533",
   "metadata": {},
   "outputs": [
    {
     "name": "stdout",
     "output_type": "stream",
     "text": [
      "No containers to clean.\n"
     ]
    }
   ],
   "source": [
    "def clean_containers():\n",
    "    containers = client.containers.list(all=True)\n",
    "    if not containers:\n",
    "        print(\"No containers to clean.\")\n",
    "        return\n",
    "    \n",
    "    for container in containers:\n",
    "        container.stop()\n",
    "        print(f\"Waiting for {container.name} to stop...\")\n",
    "        while container.status != 'exited':\n",
    "            pass\n",
    "        \n",
    "        container.reload()\n",
    "        if container.status == 'exited':\n",
    "            print(f\"Removing {container.name}\")\n",
    "            container.remove()\n",
    "\n",
    "list_running_containers()\n",
    "\n",
    "clean_containers()\n"
   ]
  },
  {
   "cell_type": "markdown",
   "id": "083fe448-2d62-42cc-a4bc-f9b96343bd0f",
   "metadata": {},
   "source": [
    "## Setting up the network"
   ]
  },
  {
   "cell_type": "code",
   "execution_count": 1,
   "id": "9c67866b-8c5a-4d3f-8616-23981e020e7e",
   "metadata": {},
   "outputs": [
    {
     "name": "stdout",
     "output_type": "stream",
     "text": [
      "431d092aa909f50dab25f1d2dc5eef9c97b516314e2bb79519d8198541843e8c\n"
     ]
    }
   ],
   "source": [
    "# Create a network called yourNetwork using the following command\n",
    "\n",
    "!docker network create yourNetwork"
   ]
  },
  {
   "cell_type": "code",
   "execution_count": 2,
   "id": "98f9b37a-eeca-4c94-b793-67be3c732783",
   "metadata": {},
   "outputs": [
    {
     "name": "stdout",
     "output_type": "stream",
     "text": [
      "[\n",
      "    {\n",
      "        \"Name\": \"yourNetwork\",\n",
      "        \"Id\": \"431d092aa909f50dab25f1d2dc5eef9c97b516314e2bb79519d8198541843e8c\",\n",
      "        \"Created\": \"2025-04-18T14:36:24.265817696-07:00\",\n",
      "        \"Scope\": \"local\",\n",
      "        \"Driver\": \"bridge\",\n",
      "        \"EnableIPv6\": false,\n",
      "        \"IPAM\": {\n",
      "            \"Driver\": \"default\",\n",
      "            \"Options\": {},\n",
      "            \"Config\": [\n",
      "                {\n",
      "                    \"Subnet\": \"172.18.0.0/16\",\n",
      "                    \"Gateway\": \"172.18.0.1\"\n",
      "                }\n",
      "            ]\n",
      "        },\n",
      "        \"Internal\": false,\n",
      "        \"Attachable\": false,\n",
      "        \"Ingress\": false,\n",
      "        \"ConfigFrom\": {\n",
      "            \"Network\": \"\"\n",
      "        },\n",
      "        \"ConfigOnly\": false,\n",
      "        \"Containers\": {},\n",
      "        \"Options\": {},\n",
      "        \"Labels\": {}\n",
      "    }\n",
      "]\n"
     ]
    }
   ],
   "source": [
    "!docker network inspect yourNetwork"
   ]
  },
  {
   "cell_type": "code",
   "execution_count": 3,
   "id": "c60b5acb-99e9-42dd-83ff-5f808a1c7223",
   "metadata": {},
   "outputs": [
    {
     "name": "stdout",
     "output_type": "stream",
     "text": [
      "b5bcdf9fdee61ea1de797aa354e1f332c31ff095d1f2390319ff36f7fc36397b\n"
     ]
    }
   ],
   "source": [
    "!docker run -d --network yourNetwork --name mysql -p 3306:3306 -e MYSQL_ROOT_PASSWORD=1 mysql:8\n"
   ]
  },
  {
   "cell_type": "code",
   "execution_count": 4,
   "id": "071b6c18-6c25-45ee-bddb-2745386107a7",
   "metadata": {},
   "outputs": [
    {
     "name": "stdout",
     "output_type": "stream",
     "text": [
      "a96cb2039f9ca306043e6584c324b684156f1fca0b19ae63bf4108895642d665\n"
     ]
    }
   ],
   "source": [
    "!docker run -d --network yourNetwork --name adminer -p 8080:8080 adminer"
   ]
  },
  {
   "cell_type": "code",
   "execution_count": 5,
   "id": "a5fc6246-b507-4b1f-8b58-1e6f9994177c",
   "metadata": {},
   "outputs": [
    {
     "name": "stdout",
     "output_type": "stream",
     "text": [
      "Error response from daemon: endpoint with name adminer already exists in network yourNetwork\n"
     ]
    }
   ],
   "source": [
    "#Now lets connect the adminer\n",
    "!docker network connect yourNetwork adminer"
   ]
  },
  {
   "cell_type": "code",
   "execution_count": 23,
   "id": "7cf0eb53-203c-4492-b5d6-2a79a70b1880",
   "metadata": {},
   "outputs": [
    {
     "name": "stdout",
     "output_type": "stream",
     "text": [
      "            \"IPv6Gateway\": \"\",\n",
      "            \"MacAddress\": \"\",\n",
      "            \"Networks\": {\n",
      "                \"yourNetwork\": {\n",
      "                    \"IPAMConfig\": null,\n",
      "                    \"IPAddress\": \"172.18.0.2\",\n",
      "------------------------------\n"
     ]
    },
    {
     "ename": "NameError",
     "evalue": "name 'show_container_ip' is not defined",
     "output_type": "error",
     "traceback": [
      "\u001b[0;31m---------------------------------------------------------------------------\u001b[0m",
      "\u001b[0;31mNameError\u001b[0m                                 Traceback (most recent call last)",
      "Cell \u001b[0;32mIn[23], line 5\u001b[0m\n\u001b[1;32m      3\u001b[0m \u001b[38;5;66;03m#or\u001b[39;00m\n\u001b[1;32m      4\u001b[0m \u001b[38;5;28mprint\u001b[39m(\u001b[38;5;124m\"\u001b[39m\u001b[38;5;124m-\u001b[39m\u001b[38;5;124m\"\u001b[39m\u001b[38;5;241m*\u001b[39m\u001b[38;5;241m30\u001b[39m)\n\u001b[0;32m----> 5\u001b[0m \u001b[43mshow_container_ip\u001b[49m(\u001b[38;5;124m\"\u001b[39m\u001b[38;5;124mmysql\u001b[39m\u001b[38;5;124m\"\u001b[39m)\n",
      "\u001b[0;31mNameError\u001b[0m: name 'show_container_ip' is not defined"
     ]
    }
   ],
   "source": [
    "!docker inspect mysql |grep -C2 \" \\\"Networks\\\"\"\n",
    "!docker inspect mysql |grep -A9 \" \\\"Networks\\\"\"| grep \" \\\"IPAddress\\\"\"\n",
    "#or\n",
    "print(\"-\"*30)\n",
    "show_container_ip(\"mysql\")"
   ]
  },
  {
   "cell_type": "code",
   "execution_count": 27,
   "id": "b992ac2d-0dd7-4111-b7be-b174de9c6bec",
   "metadata": {},
   "outputs": [
    {
     "name": "stdout",
     "output_type": "stream",
     "text": [
      "            \"Networks\": {\n",
      "                \"yourNetwork\": {\n",
      "                    \"IPAMConfig\": null,\n",
      "                    \"IPAddress\": \"172.18.0.3\",\n",
      "PING 172.18.0.3 (172.18.0.3) 56(84) bytes of data.\n",
      "64 bytes from 172.18.0.3: icmp_seq=1 ttl=64 time=0.063 ms\n",
      "\n",
      "--- 172.18.0.3 ping statistics ---\n",
      "1 packets transmitted, 1 received, 0% packet loss, time 0ms\n",
      "rtt min/avg/max/mdev = 0.063/0.063/0.063/0.000 ms\n",
      "------------------------------\n"
     ]
    },
    {
     "ename": "NameError",
     "evalue": "name 'show_container_ip' is not defined",
     "output_type": "error",
     "traceback": [
      "\u001b[0;31m---------------------------------------------------------------------------\u001b[0m",
      "\u001b[0;31mNameError\u001b[0m                                 Traceback (most recent call last)",
      "Cell \u001b[0;32mIn[27], line 6\u001b[0m\n\u001b[1;32m      4\u001b[0m \u001b[38;5;66;03m#or\u001b[39;00m\n\u001b[1;32m      5\u001b[0m \u001b[38;5;28mprint\u001b[39m(\u001b[38;5;124m\"\u001b[39m\u001b[38;5;124m-\u001b[39m\u001b[38;5;124m\"\u001b[39m\u001b[38;5;241m*\u001b[39m\u001b[38;5;241m30\u001b[39m)\n\u001b[0;32m----> 6\u001b[0m \u001b[43mshow_container_ip\u001b[49m(\u001b[38;5;124m\"\u001b[39m\u001b[38;5;124madminer\u001b[39m\u001b[38;5;124m\"\u001b[39m)\n",
      "\u001b[0;31mNameError\u001b[0m: name 'show_container_ip' is not defined"
     ]
    }
   ],
   "source": [
    "!docker inspect adminer| grep -A2 \" \\\"Networks\\\"\"\n",
    "!docker inspect adminer| grep -A9 \" \\\"Networks\\\"\"| grep \" \\\"IPAddress\\\"\"\n",
    "!ping -c 1 172.18.0.3\n",
    "#or\n",
    "print(\"-\"*30)\n",
    "show_container_ip(\"adminer\")"
   ]
  },
  {
   "cell_type": "markdown",
   "id": "b6371541-7400-4de9-8274-4784ce7ca815",
   "metadata": {},
   "source": [
    "# LAB \n",
    "As a reminder you should be submitting to me 2 files. \n",
    "- _YourName_Lab 09.ipynb\n",
    "    - this is your lab report\n",
    "- _YourName__\\<name of your script\\>.py\n",
    "\n",
    "## Part 1 - warm up\n",
    "\n",
    "Now that you have 2 containers up and running and know there connected. Create a python script that will check to see if the IP addresses of the containers are up and running. \n",
    "\n"
   ]
  },
  {
   "cell_type": "code",
   "execution_count": null,
   "id": "c7dd0f35",
   "metadata": {},
   "outputs": [],
   "source": []
  },
  {
   "cell_type": "markdown",
   "id": "8118578f",
   "metadata": {},
   "source": [
    "\n",
    "## Part 2\n",
    "Continue with the above code and create a script that will:\n",
    "- Relaunch a container if it is ever shutdown. \n",
    "- Perform a maintenance restart after 1 day has passed. \n",
    "- Monitor the log files and outputs errors and warnings.\n",
    "\n",
    "your python file does not need to be in a docker container\n",
    "\n",
    "\n",
    "https://docs.docker.com/engine/api/sdk/examples/\n",
    "\n"
   ]
  },
  {
   "cell_type": "code",
   "execution_count": null,
   "id": "da809287-9d9a-4c74-8608-98eeef8a4924",
   "metadata": {},
   "outputs": [],
   "source": []
  }
 ],
 "metadata": {
  "kernelspec": {
   "display_name": "Python 3",
   "language": "python",
   "name": "python3"
  },
  "language_info": {
   "codemirror_mode": {
    "name": "ipython",
    "version": 3
   },
   "file_extension": ".py",
   "mimetype": "text/x-python",
   "name": "python",
   "nbconvert_exporter": "python",
   "pygments_lexer": "ipython3",
   "version": "3.12.8"
  }
 },
 "nbformat": 4,
 "nbformat_minor": 5
}
