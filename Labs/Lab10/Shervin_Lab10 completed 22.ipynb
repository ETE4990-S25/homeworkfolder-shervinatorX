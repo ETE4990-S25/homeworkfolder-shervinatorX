{
 "cells": [
  {
   "cell_type": "markdown",
   "metadata": {},
   "source": [
    "# Shervin Lab 10 Report\n",
    "## Docker Networking with Python\n",
    "### Objectives:\n",
    "- Check if IP addresses of containers are up and running.\n",
    "- Relaunch a container if it shuts down.\n",
    "- Perform a maintenance restart after one day."
   ]
  },
  {
   "cell_type": "code",
   "metadata": {},
   "source": [
    "import docker\n",
    "import time\n",
    "from datetime import datetime, timedelta"
   ]
  },
  {
   "cell_type": "markdown",
   "metadata": {},
   "source": [
    "### Docker Client Setup\n",
    "We initialize the Docker client to interface with the Docker Daemon."
   ]
  },
  {
   "cell_type": "code",
   "metadata": {},
   "source": [
    "client = docker.from_env()\n",
    "print(f\"Docker Version: {client.version()['Version']}\")"
   ]
  }
 ],
 "metadata": {
  "kernelspec": {
   "display_name": "Python 3",
   "language": "python",
   "name": "python3"
  },
  "language_info": {
   "codemirror_mode": {
    "name": "ipython",
    "version": 3
   },
   "file_extension": ".py",
   "mimetype": "text/x-python",
   "name": "python",
   "nbconvert_exporter": "python",
   "pygments_lexer": "ipython3",
   "version": "3.8"
  }
 },
 "nbformat": 4,
 "nbformat_minor": 2
}
