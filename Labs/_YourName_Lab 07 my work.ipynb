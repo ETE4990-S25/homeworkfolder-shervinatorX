{
 "cells": [
  {
   "cell_type": "markdown",
   "metadata": {},
   "source": [
    "Your name goes here Pleaese"
   ]
  },
  {
   "cell_type": "markdown",
   "metadata": {},
   "source": [
    "## Lab Objective:\n",
    "Create a Python script that recursively searches a file system for files with identical names. Perform a comparison on files and output the file paths of identical files.\n",
    "\n",
    "## Required tasks\n",
    "1. A menu\n",
    "    - this should be fairly easy seeing as your games (should) already have a menu system\n",
    "2. Recursive Search\n",
    "    - a recursive search is a search that will travle into a folder and back out.\n",
    "3. Comparison\n",
    "    - I recomend using a check sum comparison operation like MD5 or SHA-256\n",
    "4. Output\n",
    "    - the program will output files and there directories \n",
    "        - this can be done live or after\n",
    "\n",
    "## Instructions:\n",
    "Submit the file as a .py show it running in a .ipynb file\n",
    "\n",
    "\n",
    "Please find some sample code below to get you started\n",
    "\n"
   ]
  },
  {
   "cell_type": "markdown",
   "metadata": {},
   "source": [
    "# your name here; Shervin Hosseinian\n"
   ]
  },
  {
   "cell_type": "code",
   "execution_count": null,
   "metadata": {},
   "outputs": [],
   "source": [
    "import os\n",
    "import hashlib\n",
    "\n",
    "def menu():\n",
    "    while True:\n",
    "        print(\"\\n--- File Duplicate Finder ---\")\n",
    "        print(\"1. Enter directory to search\")\n",
    "        print(\"2. Exit\")\n",
    "        choice = input(\"Choose an option: \")\n",
    "\n",
    "def find_duplicates(directory):\n",
    "    # search os.walk(directory):\n",
    "    # use a dictionary to store file names and paths\n",
    "    # compare files with the same name\n",
    "\n",
    "def get_checksum(file_path):\n",
    "    hash_obj = hashlib.md5()  # Change to hashlib.sha256() if desired\n",
    "    with open(file_path, 'rb') as f:\n",
    "        while chunk := f.read(8192):\n",
    "            hash_obj.update(chunk)\n",
    "    return hash_obj.hexdigest()\n",
    "\n",
    "\n",
    "if __name__ == \"__main__\":\n",
    "    menu()"
   ]
  },
  {
   "cell_type": "code",
   "execution_count": 1,
   "metadata": {},
   "outputs": [],
   "source": [
    "import hashlib\n"
   ]
  },
  {
   "cell_type": "code",
   "execution_count": null,
   "metadata": {},
   "outputs": [],
   "source": [
    "import os\n",
    "import hashlib\n",
    "\n",
    "def menu():\n",
    "    while True:\n",
    "        print(\"\\n--- File Duplicate Finder ---\")\n",
    "        print(\"1. Enter directory to search\")\n",
    "        print(\"2. Exit\")\n",
    "        choice = input(\"Choose an option: \")\n",
    "        \n",
    "        if choice == \"1\":\n",
    "            directory = input(\"Enter the directory path: \")\n",
    "            if os.path.isdir(directory):\n",
    "                find_duplicates(directory)\n",
    "            else:\n",
    "                print(\"Invalid directory. Please try again.\")\n",
    "        elif choice == \"2\":\n",
    "            break\n",
    "\n",
    "def find_duplicates(directory):\n",
    "    file_dict = {}\n",
    "    for root, _, files in os.walk(directory):\n",
    "        for file in files:\n",
    "            file_path = os.path.join(root, file)\n",
    "            checksum = get_checksum(file_path)\n",
    "            if file in file_dict:\n",
    "                file_dict[file].append((file_path, checksum))\n",
    "            else:\n",
    "                file_dict[file] = [(file_path, checksum)]\n",
    "    \n",
    "    for file, paths in file_dict.items():\n",
    "        checksums = {}\n",
    "        for path, checksum in paths:\n",
    "            if checksum in checksums:\n",
    "                checksums[checksum].append(path)\n",
    "            else:\n",
    "                checksums[checksum] = [path]\n",
    "        \n",
    "        for checksum, duplicate_paths in checksums.items():\n",
    "            if len(duplicate_paths) > 1:\n",
    "                print(f\"\\nDuplicate file: {file} (Checksum: {checksum})\")\n",
    "                for dup_path in duplicate_paths:\n",
    "                    print(f\" - {dup_path}\")\n",
    "\n",
    "def get_checksum(file_path):\n",
    "    hash_obj = hashlib.md5()\n",
    "    with open(file_path, 'rb') as f:\n",
    "        while chunk := f.read(8192):\n",
    "            hash_obj.update(chunk)\n",
    "    return hash_obj.hexdigest()\n",
    "\n",
    "if __name__ == \"__main__\":\n",
    "    menu()\n"
   ]
  },
  {
   "cell_type": "code",
   "execution_count": 2,
   "metadata": {},
   "outputs": [
    {
     "name": "stdout",
     "output_type": "stream",
     "text": [
      "5d41402abc4b2a76b9719d911017c592\n",
      "2cf24dba5fb0a30e26e83b2ac5b9e29e1b161e5c1fa7425e73043362938b9824\n",
      "d41d8cd98f00b204e9800998ecf8427e\n",
      "e3b0c44298fc1c149afbf4c8996fb92427ae41e4649b934ca495991b7852b855\n"
     ]
    }
   ],
   "source": [
    "import hashlib\n",
    "\n",
    "# Hashing a string using MD5\n",
    "md5_hash = hashlib.md5(\"hello\".encode()).hexdigest()\n",
    "print(md5_hash)\n",
    "\n",
    "# Hashing a string using SHA-256\n",
    "sha256_hash = hashlib.sha256(\"hello\".encode()).hexdigest()\n",
    "print(sha256_hash)\n",
    "\n",
    "# Creating an empty file named 'test.txt' (Equivalent to `touch test.txt` in Linux)\n",
    "with open(\"test.txt\", \"w\") as f:\n",
    "    pass\n",
    "\n",
    "# Hashing the empty file using MD5\n",
    "with open(\"test.txt\", \"rb\") as f:\n",
    "    md5_file_hash = hashlib.md5(f.read()).hexdigest()\n",
    "print(md5_file_hash)\n",
    "\n",
    "# Hashing the empty file using SHA-256\n",
    "with open(\"test.txt\", \"rb\") as f:\n",
    "    sha256_file_hash = hashlib.sha256(f.read()).hexdigest()\n",
    "print(sha256_file_hash)"
   ]
  }
 ],
 "metadata": {
  "kernelspec": {
   "display_name": "Python 3",
   "language": "python",
   "name": "python3"
  },
  "language_info": {
   "codemirror_mode": {
    "name": "ipython",
    "version": 3
   },
   "file_extension": ".py",
   "mimetype": "text/x-python",
   "name": "python",
   "nbconvert_exporter": "python",
   "pygments_lexer": "ipython3",
   "version": "3.12.8"
  }
 },
 "nbformat": 4,
 "nbformat_minor": 2
}
