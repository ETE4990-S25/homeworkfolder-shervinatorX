{
 "cells": [
  {
   "cell_type": "markdown",
   "metadata": {},
   "source": [
    "# Valentine's Day Lab Assignment\n",
    "Picking a Romantic Movie\n",
    "\n",
    "## Instructions:\n",
    "1. Download a dataset of romantic movies from a public dataset repository (e.g., Kaggle).\n",
    "   - Example dataset: \"Romantic Movies Dataset\" (ensure it's in JSON format).\n",
    "2. Load the dataset from the JSON file.\n",
    "3. Create a function that helps pick a romantic movie based on user preferences.\n",
    "4. Display the selected movie details.\n",
    "5. Verify the JSON file content\n",
    "\n"
   ]
  },
  {
   "cell_type": "code",
   "execution_count": null,
   "metadata": {},
   "outputs": [],
   "source": [
    "# Sample Code:\n",
    "min_rating = float(input(\"Enter the minimum rating (0-10): \"))\n",
    "max_year = int(input(\"Enter the latest release year: \"))\n",
    "\n",
    "selected_movie = pick_movie(data, min_rating, max_year)\n",
    "\n",
    "if isinstance(selected_movie, str):\n",
    "    print(selected_movie)\n",
    "else:\n",
    "    print(f\"Selected Movie: {selected_movie['Title']}\")\n",
    "    print(f\"Year: {selected_movie['Year']}\")\n",
    "    print(f\"Rating: {selected_movie['Rating']}\")\n",
    "    print(f\"Box Office: ${selected_movie['BoxOffice']} million\")"
   ]
  },
  {
   "cell_type": "code",
   "execution_count": null,
   "metadata": {},
   "outputs": [],
   "source": [
    "import json\n",
    "import random\n",
    "\n",
    "# Function to load movies from a JSON file \n",
    "def load_movies(file_path):\n",
    "    try:\n",
    "        with open(file_path, 'r') as file:\n",
    "            movies = json.load(file)\n",
    "        return movies\n",
    "    except Exception as e:\n",
    "        print(\"Error loading file:\", e)\n",
    "        return None\n",
    "\n",
    "# Function to pick a movie based on user preferences\n",
    "def pick_movie(movies, min_rating, max_year):\n",
    "    if not movies:  # Check if movies were loaded\n",
    "        return \"No movies found.\"\n",
    "\n",
    "    filtered_movies = [\n",
    "        movie for movie in movies\n",
    "        if movie.get('Rating', 0) >= min_rating and movie.get('Year', 2000) <= max_year\n",
    "    ]\n",
    "\n",
    "    if not filtered_movies:\n",
    "        return \"No movies match the given criteria.\"\n",
    "\n",
    "    return random.choice(filtered_movies)  # Select a random movie from the filtered list\n",
    "\n",
    "# User input\n",
    "min_rating = float(input(\"Enter the minimum rating (0-10): \"))\n",
    "max_year = int(input(\"Enter the latest release year: \"))\n",
    "\n",
    "# Load movies from a sample JSON file (ensure 'romantic_movies.json' exists)\n",
    "data = load_movies(\"romantic_movies.json\")\n",
    "\n",
    "selected_movie = pick_movie(data, min_rating, max_year)\n",
    "\n",
    "# Display the selected movie\n",
    "if isinstance(selected_movie, str):\n",
    "    print(selected_movie)\n",
    "else:\n",
    "    print(f\"Selected Movie: {selected_movie['Title']}\")\n",
    "    print(f\"Year: {selected_movie['Year']}\") \n",
    "    print(f\"Rating: {selected_movie['Rating']}\")  \n",
    "    print(f\"Box Office: ${selected_movie.get('BoxOffice', 'N/A')} million\") "
   ]
  }
 ],
 "metadata": {
  "language_info": {
   "name": "python"
  }
 },
 "nbformat": 4,
 "nbformat_minor": 2
}
