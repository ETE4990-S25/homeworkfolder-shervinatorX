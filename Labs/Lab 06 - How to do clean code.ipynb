{
 "cells": [
  {
   "cell_type": "markdown",
   "metadata": {},
   "source": [
    "# Lab 6 Clean Code in Python\n",
    "\n",
    "Understand and implement the principles of clean code in Python to improve readability, maintainability, and overall quality of your code.\n"
   ]
  },
  {
   "cell_type": "markdown",
   "metadata": {},
   "source": [
    "## Importance of Clean Code\n",
    "Clean code is easy to read, understand, and maintain. It reduces the likelihood of bugs, makes it easier to add new features, and improves collaboration among developers."
   ]
  },
  {
   "cell_type": "markdown",
   "metadata": {},
   "source": [
    "## Naming Conventions\n",
    "Use meaningful and descriptive names for variables, functions, classes, and modules."
   ]
  },
  {
   "cell_type": "code",
   "execution_count": 5,
   "metadata": {},
   "outputs": [],
   "source": [
    "# Bad naming\n",
    "x = 10\n",
    "def f(a):\n",
    "    return a * 2\n",
    "\n",
    "# Good naming\n",
    "distance_in_km = 10\n",
    "def double_value(value):\n",
    "    return value * 2"
   ]
  },
  {
   "cell_type": "markdown",
   "metadata": {},
   "source": [
    "## Code Structure and Formatting\n",
    "Follow the PEP 8 style guide for Python code. Use consistent indentation, spacing, and line breaks."
   ]
  },
  {
   "cell_type": "code",
   "execution_count": 6,
   "metadata": {},
   "outputs": [],
   "source": [
    "# Bad formatting\n",
    "def greet(name):print(f\"Hello, {name}!\")\n",
    "\n",
    "# Good formatting\n",
    "def greet(name):\n",
    "    print(f\"Hello, {name}!\")"
   ]
  },
  {
   "cell_type": "markdown",
   "metadata": {},
   "source": [
    "## Comments and Documentation\n",
    "Write clear and concise comments to explain complex logic and document your code with docstrings."
   ]
  },
  {
   "cell_type": "code",
   "execution_count": 2,
   "metadata": {},
   "outputs": [],
   "source": [
    "# Bad comment\n",
    "a = 5 # Increment a by 1\n",
    "\n",
    "# Good comment\n",
    "# Initialize the variable with the default value\n",
    "a = 5\n",
    "\n",
    "\n",
    "#Bad Docstring\n",
    "def calculate_area(radius):\n",
    "    \"\"\"\n",
    "    This function calculates area.\n",
    "    \"\"\"\n",
    "    return 2.14 * radius ** 2\n",
    "\n",
    "#Good Docstring\n",
    "def calculate_area(radius):\n",
    "    \"\"\"\n",
    "    Calculate the area of a circle given its radius.\n",
    "    \n",
    "    Parameters:\n",
    "    radius (float): The radius of the circle.\n",
    "    \n",
    "    Returns:\n",
    "    float: The area of the circle.\n",
    "    \"\"\"\n",
    "    return 2.14 * radius ** 2"
   ]
  },
  {
   "cell_type": "markdown",
   "id": "9b433b2f",
   "metadata": {},
   "source": [
    "## Functions and Methods\n",
    "Write small, single-responsibility functions and avoid deeply nested code.\n"
   ]
  },
  {
   "cell_type": "code",
   "execution_count": null,
   "id": "637a334b",
   "metadata": {},
   "outputs": [],
   "source": [
    "# Bad function\n",
    "def process_data(data):\n",
    "    # Some long and complex logic\n",
    "    pass\n",
    "\n",
    "# Good function\n",
    "def process_data(data):\n",
    "    cleaned_data = clean_data(data)\n",
    "    analyzed_data = analyze_data(cleaned_data)\n",
    "    return analyzed_data\n",
    "\n",
    "def clean_data(data):\n",
    "    # Logic to clean data\n",
    "    pass\n",
    "\n",
    "def analyze_data(cleaned_data):\n",
    "    # Logic to analyze data\n",
    "    pass\n"
   ]
  },
  {
   "cell_type": "markdown",
   "id": "13019667",
   "metadata": {},
   "source": [
    "## Error Handling\n",
    "Handle errors gracefully using exceptions."
   ]
  },
  {
   "cell_type": "code",
   "execution_count": null,
   "id": "63e423b5",
   "metadata": {},
   "outputs": [],
   "source": [
    "\n",
    "# Bad error handling\n",
    "try:\n",
    "    file = open(\"file.txt\")\n",
    "except:\n",
    "    print(\"An error occurred\")\n",
    "\n",
    "# Good error handling\n",
    "try:\n",
    "    file = open(\"file.txt\")\n",
    "except FileNotFoundError:\n",
    "    print(\"File not found\")\n",
    "except Exception as e:\n",
    "    print(f\"An error occurred: {e}\")\n"
   ]
  },
  {
   "cell_type": "markdown",
   "id": "0e6e5942",
   "metadata": {},
   "source": [
    "## Best Practices\n",
    "- Follow the DRY (Don't Repeat Yourself) principle.\n",
    "- Write unit tests to ensure code correctness.\n",
    "- Refactor code regularly to improve quality.\n",
    "- Use version control systems like Git.\n"
   ]
  }
 ],
 "metadata": {
  "kernelspec": {
   "display_name": "Python 3",
   "language": "python",
   "name": "python3"
  },
  "language_info": {
   "codemirror_mode": {
    "name": "ipython",
    "version": 3
   },
   "file_extension": ".py",
   "mimetype": "text/x-python",
   "name": "python",
   "nbconvert_exporter": "python",
   "pygments_lexer": "ipython3",
   "version": "3.13.2"
  }
 },
 "nbformat": 4,
 "nbformat_minor": 5
}
